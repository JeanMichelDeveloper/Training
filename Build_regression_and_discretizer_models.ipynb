{
  "nbformat": 4,
  "nbformat_minor": 0,
  "metadata": {
    "colab": {
      "provenance": [],
      "authorship_tag": "ABX9TyNnTe7zMAtgRFo5vJ9JDzYD",
      "include_colab_link": true
    },
    "kernelspec": {
      "name": "python3",
      "display_name": "Python 3"
    },
    "language_info": {
      "name": "python"
    }
  },
  "cells": [
    {
      "cell_type": "markdown",
      "metadata": {
        "id": "view-in-github",
        "colab_type": "text"
      },
      "source": [
        "<a href=\"https://colab.research.google.com/github/JeanMichelDeveloper/Training/blob/main/Build_regression_and_discretizer_models.ipynb\" target=\"_parent\"><img src=\"https://colab.research.google.com/assets/colab-badge.svg\" alt=\"Open In Colab\"/></a>"
      ]
    },
    {
      "cell_type": "markdown",
      "source": [
        "Compare decision tree and linear regression models"
      ],
      "metadata": {
        "id": "Y-Th31nEsmbC"
      }
    },
    {
      "cell_type": "code",
      "execution_count": 2,
      "metadata": {
        "id": "xPZgIR8TrChW"
      },
      "outputs": [],
      "source": [
        "import numpy\n",
        "#create data\n",
        "def create_data():\n",
        "  random = numpy.random.RandomState(42)\n",
        "  x = random.uniform(-3, 3, size = 100)\n",
        "  y_no_randomness = (numpy.sin(3*x) + x)\n",
        "  y = (y_no_randomness + random.normal(size=len(x))) / 2\n",
        "  return x.reshape(-1, 1), y\n",
        "\n",
        "X, y = create_data()  "
      ]
    },
    {
      "cell_type": "code",
      "source": [
        "print(X)"
      ],
      "metadata": {
        "colab": {
          "base_uri": "https://localhost:8080/"
        },
        "id": "adm2Pinxo9Vb",
        "outputId": "33ec2943-dc97-4831-b092-da4515325149"
      },
      "execution_count": 3,
      "outputs": [
        {
          "output_type": "stream",
          "name": "stdout",
          "text": [
            "[[-0.75275929]\n",
            " [ 2.70428584]\n",
            " [ 1.39196365]\n",
            " [ 0.59195091]\n",
            " [-2.06388816]\n",
            " [-2.06403288]\n",
            " [-2.65149833]\n",
            " [ 2.19705687]\n",
            " [ 0.60669007]\n",
            " [ 1.24843547]\n",
            " [-2.87649303]\n",
            " [ 2.81945911]\n",
            " [ 1.99465584]\n",
            " [-1.72596534]\n",
            " [-1.9090502 ]\n",
            " [-1.89957294]\n",
            " [-1.17454654]\n",
            " [ 0.14853859]\n",
            " [-0.40832989]\n",
            " [-1.25262516]\n",
            " [ 0.67111737]\n",
            " [-2.16303684]\n",
            " [-1.24713211]\n",
            " [-0.80182894]\n",
            " [-0.26358009]\n",
            " [ 1.71105577]\n",
            " [-1.80195731]\n",
            " [ 0.08540663]\n",
            " [ 0.55448741]\n",
            " [-2.72129752]\n",
            " [ 0.64526911]\n",
            " [-1.97685526]\n",
            " [-2.60969044]\n",
            " [ 2.69331322]\n",
            " [ 2.7937922 ]\n",
            " [ 1.85038409]\n",
            " [-1.17231738]\n",
            " [-2.41396732]\n",
            " [ 1.10539816]\n",
            " [-0.35908504]\n",
            " [-2.26777059]\n",
            " [-0.02893854]\n",
            " [-2.79366887]\n",
            " [ 2.45592241]\n",
            " [-1.44732011]\n",
            " [ 0.97513371]\n",
            " [-1.12973354]\n",
            " [ 0.12040813]\n",
            " [ 0.28026168]\n",
            " [-1.89087327]\n",
            " [ 2.81750777]\n",
            " [ 1.65079694]\n",
            " [ 2.63699365]\n",
            " [ 2.3689641 ]\n",
            " [ 0.58739987]\n",
            " [ 2.53124541]\n",
            " [-2.46904499]\n",
            " [-1.82410283]\n",
            " [-2.72863627]\n",
            " [-1.04801802]\n",
            " [-0.66793626]\n",
            " [-1.37190581]\n",
            " [ 1.97242505]\n",
            " [-0.85948004]\n",
            " [-1.31439294]\n",
            " [ 0.2561765 ]\n",
            " [-2.15445465]\n",
            " [ 1.81318188]\n",
            " [-2.55269614]\n",
            " [ 2.92132162]\n",
            " [ 1.63346862]\n",
            " [-1.80770591]\n",
            " [-2.9668673 ]\n",
            " [ 1.89276857]\n",
            " [ 1.24114406]\n",
            " [ 1.37404301]\n",
            " [ 1.62762208]\n",
            " [-2.55573209]\n",
            " [-0.84920563]\n",
            " [-2.30478564]\n",
            " [ 2.17862056]\n",
            " [ 0.73978876]\n",
            " [-1.01461185]\n",
            " [-2.6186499 ]\n",
            " [-1.13410607]\n",
            " [-1.04890007]\n",
            " [ 1.37763707]\n",
            " [ 0.82534483]\n",
            " [ 2.32327646]\n",
            " [-0.16671045]\n",
            " [-2.28243452]\n",
            " [ 1.27946872]\n",
            " [ 1.56471029]\n",
            " [ 0.36766319]\n",
            " [ 1.62580308]\n",
            " [-0.03722642]\n",
            " [ 0.13639698]\n",
            " [-0.43475389]\n",
            " [-2.84748524]\n",
            " [-2.35265144]]\n"
          ]
        }
      ]
    },
    {
      "cell_type": "code",
      "source": [
        "print(y)"
      ],
      "metadata": {
        "colab": {
          "base_uri": "https://localhost:8080/"
        },
        "id": "Dl6_k1k7o-rg",
        "outputId": "364ac9e3-7b3d-45e2-bb20-cc52cfc2396a"
      },
      "execution_count": 4,
      "outputs": [
        {
          "output_type": "stream",
          "name": "stdout",
          "text": [
            "[-0.71927944  1.68597842  0.31211026 -0.20828425 -1.09608346 -0.80797977\n",
            " -1.08427853  0.99096301  0.38364414  0.08948738 -1.33758189  1.98552794\n",
            "  0.58506141 -0.15955191 -0.64207511 -0.18958672 -0.7518895   0.12594502\n",
            " -0.87062019 -1.06906714  0.93544887 -1.05322723 -0.33876911 -0.85391158\n",
            " -1.19491248  0.18881958 -0.68782375 -0.23172249  0.69445564 -1.6348037\n",
            "  1.73278742 -0.72846005 -1.6759149   1.79672361  0.86957103  0.57774349\n",
            " -0.37274008 -0.38459003  0.36966058 -0.46909922 -1.39973612 -0.64216159\n",
            " -1.25757664  2.04598179  0.13794205  0.14012881  0.25907318 -0.46401154\n",
            "  0.80614282  0.43645662  1.32656481  0.05658084  1.8675105   1.29957912\n",
            "  0.00923734  1.78306762 -2.21658146 -0.31280946 -2.2967383   0.25218889\n",
            " -1.17944769 -0.43337845  1.21407147 -1.31209946 -0.18423636  1.12919902\n",
            " -1.97057161  0.62537411 -1.63684377  2.15845174 -0.29292947 -1.18513794\n",
            " -1.4727128   0.8105451   0.4710376   0.4448476  -0.01895328 -1.65304233\n",
            " -0.5578967  -1.80461406  2.14719565  1.00528505 -1.15175841 -1.48104718\n",
            " -0.92550304 -0.12835397  0.84974196  0.31108039  1.96029897 -0.11673516\n",
            " -0.99752263  1.26724222  0.15974443  0.25324322 -0.12506319 -0.48224198\n",
            "  0.22858122 -0.52914567 -1.67150543 -1.11250961]\n"
          ]
        }
      ]
    },
    {
      "cell_type": "code",
      "source": [
        "#create and score decision tree model\n",
        "from sklearn.tree import DecisionTreeRegressor\n",
        "\n",
        "decision_model = DecisionTreeRegressor(min_samples_leaf = 3).fit(X,y)\n",
        "\n",
        "import matplotlib.pyplot as plt\n",
        "\n",
        "X_test = numpy.linspace(-3, 3, 1000, endpoint = False).reshape(-1, 1)\n",
        "\n",
        "score = decision_model.predict(X_test)\n",
        "\n"
      ],
      "metadata": {
        "id": "0x9Ooh9FpDWF"
      },
      "execution_count": 5,
      "outputs": []
    },
    {
      "cell_type": "code",
      "source": [
        "#create and score linear regression model\n",
        "\n",
        "from sklearn.linear_model import LinearRegression\n",
        "\n",
        "linear_model = LinearRegression().fit(X,y)\n",
        "\n",
        "linear_results = linear_model.predict(X_test)"
      ],
      "metadata": {
        "id": "IcuvkrDOqtjj"
      },
      "execution_count": 6,
      "outputs": []
    },
    {
      "cell_type": "code",
      "source": [
        "plt.plot(X_test, score, label = \"Decision tree\")\n",
        "\n",
        "plt.plot(X[:, 0], y, 'o', c='k')\n",
        "\n",
        "plt.plot(X_test, linear_results, label = \"Linear Regression\")\n",
        "\n",
        "plt.legend()"
      ],
      "metadata": {
        "colab": {
          "base_uri": "https://localhost:8080/",
          "height": 282
        },
        "id": "eMNYQewlqcDe",
        "outputId": "871296d8-e244-4ac0-a09a-d2feb1db00f6"
      },
      "execution_count": 7,
      "outputs": [
        {
          "output_type": "execute_result",
          "data": {
            "text/plain": [
              "<matplotlib.legend.Legend at 0x7fb0a7e49b10>"
            ]
          },
          "metadata": {},
          "execution_count": 7
        },
        {
          "output_type": "display_data",
          "data": {
            "text/plain": [
              "<Figure size 432x288 with 1 Axes>"
            ],
            "image/png": "[encoded data removed]"
          },
          "metadata": {
            "needs_background": "light"
          }
        }
      ]
    },
    {
      "cell_type": "markdown",
      "source": [
        "Bin data with Kbins Discretizer"
      ],
      "metadata": {
        "id": "8hPDb58ws6wY"
      }
    },
    {
      "cell_type": "code",
      "source": [
        "#import and train discretizer\n",
        "from sklearn.preprocessing import KBinsDiscretizer\n",
        "\n",
        "discretizer = KBinsDiscretizer(n_bins = 10, strategy = 'uniform')\n",
        "\n",
        "discretizer.fit(X)\n",
        "\n",
        "print(discretizer.bin_edges_)"
      ],
      "metadata": {
        "colab": {
          "base_uri": "https://localhost:8080/"
        },
        "id": "V3kpBrw_s-6j",
        "outputId": "77411483-4ecf-46a3-bba2-9f45c230819a"
      },
      "execution_count": 8,
      "outputs": [
        {
          "output_type": "stream",
          "name": "stdout",
          "text": [
            "[array([-2.9668673 , -2.37804841, -1.78922951, -1.20041062, -0.61159173,\n",
            "        -0.02277284,  0.56604605,  1.15486494,  1.74368384,  2.33250273,\n",
            "         2.92132162])                                                   ]\n"
          ]
        }
      ]
    },
    {
      "cell_type": "code",
      "source": [
        "#Bin data\n",
        "X_binned = discretizer.transform(X)\n",
        "\n",
        "print(X_binned)"
      ],
      "metadata": {
        "colab": {
          "base_uri": "https://localhost:8080/"
        },
        "id": "2vmTNDMxsOS7",
        "outputId": "a7cf73f9-3953-43ab-9330-0f1a1b7e65f0"
      },
      "execution_count": 9,
      "outputs": [
        {
          "output_type": "stream",
          "name": "stdout",
          "text": [
            "  (0, 3)\t1.0\n",
            "  (1, 9)\t1.0\n",
            "  (2, 7)\t1.0\n",
            "  (3, 6)\t1.0\n",
            "  (4, 1)\t1.0\n",
            "  (5, 1)\t1.0\n",
            "  (6, 0)\t1.0\n",
            "  (7, 8)\t1.0\n",
            "  (8, 6)\t1.0\n",
            "  (9, 7)\t1.0\n",
            "  (10, 0)\t1.0\n",
            "  (11, 9)\t1.0\n",
            "  (12, 8)\t1.0\n",
            "  (13, 2)\t1.0\n",
            "  (14, 1)\t1.0\n",
            "  (15, 1)\t1.0\n",
            "  (16, 3)\t1.0\n",
            "  (17, 5)\t1.0\n",
            "  (18, 4)\t1.0\n",
            "  (19, 2)\t1.0\n",
            "  (20, 6)\t1.0\n",
            "  (21, 1)\t1.0\n",
            "  (22, 2)\t1.0\n",
            "  (23, 3)\t1.0\n",
            "  (24, 4)\t1.0\n",
            "  :\t:\n",
            "  (75, 7)\t1.0\n",
            "  (76, 7)\t1.0\n",
            "  (77, 0)\t1.0\n",
            "  (78, 3)\t1.0\n",
            "  (79, 1)\t1.0\n",
            "  (80, 8)\t1.0\n",
            "  (81, 6)\t1.0\n",
            "  (82, 3)\t1.0\n",
            "  (83, 0)\t1.0\n",
            "  (84, 3)\t1.0\n",
            "  (85, 3)\t1.0\n",
            "  (86, 7)\t1.0\n",
            "  (87, 6)\t1.0\n",
            "  (88, 8)\t1.0\n",
            "  (89, 4)\t1.0\n",
            "  (90, 1)\t1.0\n",
            "  (91, 7)\t1.0\n",
            "  (92, 7)\t1.0\n",
            "  (93, 5)\t1.0\n",
            "  (94, 7)\t1.0\n",
            "  (95, 4)\t1.0\n",
            "  (96, 5)\t1.0\n",
            "  (97, 4)\t1.0\n",
            "  (98, 0)\t1.0\n",
            "  (99, 1)\t1.0\n"
          ]
        }
      ]
    },
    {
      "cell_type": "code",
      "source": [
        "#create and train discretizer with onehot encoding\n",
        "encoding_discretizer = KBinsDiscretizer(n_bins = 10, strategy = \"uniform\", encode = \"onehot-dense\")\n",
        "\n",
        "encoding_discretizer.fit(X)\n",
        "\n",
        "X_binned = encoding_discretizer.transform(X)\n",
        "\n",
        "print(X_binned)"
      ],
      "metadata": {
        "colab": {
          "base_uri": "https://localhost:8080/"
        },
        "id": "gMXOwwSbsmhd",
        "outputId": "3d954c35-2f23-455c-d84c-7823e7d2f22d"
      },
      "execution_count": 10,
      "outputs": [
        {
          "output_type": "stream",
          "name": "stdout",
          "text": [
            "[[0. 0. 0. 1. 0. 0. 0. 0. 0. 0.]\n",
            " [0. 0. 0. 0. 0. 0. 0. 0. 0. 1.]\n",
            " [0. 0. 0. 0. 0. 0. 0. 1. 0. 0.]\n",
            " [0. 0. 0. 0. 0. 0. 1. 0. 0. 0.]\n",
            " [0. 1. 0. 0. 0. 0. 0. 0. 0. 0.]\n",
            " [0. 1. 0. 0. 0. 0. 0. 0. 0. 0.]\n",
            " [1. 0. 0. 0. 0. 0. 0. 0. 0. 0.]\n",
            " [0. 0. 0. 0. 0. 0. 0. 0. 1. 0.]\n",
            " [0. 0. 0. 0. 0. 0. 1. 0. 0. 0.]\n",
            " [0. 0. 0. 0. 0. 0. 0. 1. 0. 0.]\n",
            " [1. 0. 0. 0. 0. 0. 0. 0. 0. 0.]\n",
            " [0. 0. 0. 0. 0. 0. 0. 0. 0. 1.]\n",
            " [0. 0. 0. 0. 0. 0. 0. 0. 1. 0.]\n",
            " [0. 0. 1. 0. 0. 0. 0. 0. 0. 0.]\n",
            " [0. 1. 0. 0. 0. 0. 0. 0. 0. 0.]\n",
            " [0. 1. 0. 0. 0. 0. 0. 0. 0. 0.]\n",
            " [0. 0. 0. 1. 0. 0. 0. 0. 0. 0.]\n",
            " [0. 0. 0. 0. 0. 1. 0. 0. 0. 0.]\n",
            " [0. 0. 0. 0. 1. 0. 0. 0. 0. 0.]\n",
            " [0. 0. 1. 0. 0. 0. 0. 0. 0. 0.]\n",
            " [0. 0. 0. 0. 0. 0. 1. 0. 0. 0.]\n",
            " [0. 1. 0. 0. 0. 0. 0. 0. 0. 0.]\n",
            " [0. 0. 1. 0. 0. 0. 0. 0. 0. 0.]\n",
            " [0. 0. 0. 1. 0. 0. 0. 0. 0. 0.]\n",
            " [0. 0. 0. 0. 1. 0. 0. 0. 0. 0.]\n",
            " [0. 0. 0. 0. 0. 0. 0. 1. 0. 0.]\n",
            " [0. 1. 0. 0. 0. 0. 0. 0. 0. 0.]\n",
            " [0. 0. 0. 0. 0. 1. 0. 0. 0. 0.]\n",
            " [0. 0. 0. 0. 0. 1. 0. 0. 0. 0.]\n",
            " [1. 0. 0. 0. 0. 0. 0. 0. 0. 0.]\n",
            " [0. 0. 0. 0. 0. 0. 1. 0. 0. 0.]\n",
            " [0. 1. 0. 0. 0. 0. 0. 0. 0. 0.]\n",
            " [1. 0. 0. 0. 0. 0. 0. 0. 0. 0.]\n",
            " [0. 0. 0. 0. 0. 0. 0. 0. 0. 1.]\n",
            " [0. 0. 0. 0. 0. 0. 0. 0. 0. 1.]\n",
            " [0. 0. 0. 0. 0. 0. 0. 0. 1. 0.]\n",
            " [0. 0. 0. 1. 0. 0. 0. 0. 0. 0.]\n",
            " [1. 0. 0. 0. 0. 0. 0. 0. 0. 0.]\n",
            " [0. 0. 0. 0. 0. 0. 1. 0. 0. 0.]\n",
            " [0. 0. 0. 0. 1. 0. 0. 0. 0. 0.]\n",
            " [0. 1. 0. 0. 0. 0. 0. 0. 0. 0.]\n",
            " [0. 0. 0. 0. 1. 0. 0. 0. 0. 0.]\n",
            " [1. 0. 0. 0. 0. 0. 0. 0. 0. 0.]\n",
            " [0. 0. 0. 0. 0. 0. 0. 0. 0. 1.]\n",
            " [0. 0. 1. 0. 0. 0. 0. 0. 0. 0.]\n",
            " [0. 0. 0. 0. 0. 0. 1. 0. 0. 0.]\n",
            " [0. 0. 0. 1. 0. 0. 0. 0. 0. 0.]\n",
            " [0. 0. 0. 0. 0. 1. 0. 0. 0. 0.]\n",
            " [0. 0. 0. 0. 0. 1. 0. 0. 0. 0.]\n",
            " [0. 1. 0. 0. 0. 0. 0. 0. 0. 0.]\n",
            " [0. 0. 0. 0. 0. 0. 0. 0. 0. 1.]\n",
            " [0. 0. 0. 0. 0. 0. 0. 1. 0. 0.]\n",
            " [0. 0. 0. 0. 0. 0. 0. 0. 0. 1.]\n",
            " [0. 0. 0. 0. 0. 0. 0. 0. 0. 1.]\n",
            " [0. 0. 0. 0. 0. 0. 1. 0. 0. 0.]\n",
            " [0. 0. 0. 0. 0. 0. 0. 0. 0. 1.]\n",
            " [1. 0. 0. 0. 0. 0. 0. 0. 0. 0.]\n",
            " [0. 1. 0. 0. 0. 0. 0. 0. 0. 0.]\n",
            " [1. 0. 0. 0. 0. 0. 0. 0. 0. 0.]\n",
            " [0. 0. 0. 1. 0. 0. 0. 0. 0. 0.]\n",
            " [0. 0. 0. 1. 0. 0. 0. 0. 0. 0.]\n",
            " [0. 0. 1. 0. 0. 0. 0. 0. 0. 0.]\n",
            " [0. 0. 0. 0. 0. 0. 0. 0. 1. 0.]\n",
            " [0. 0. 0. 1. 0. 0. 0. 0. 0. 0.]\n",
            " [0. 0. 1. 0. 0. 0. 0. 0. 0. 0.]\n",
            " [0. 0. 0. 0. 0. 1. 0. 0. 0. 0.]\n",
            " [0. 1. 0. 0. 0. 0. 0. 0. 0. 0.]\n",
            " [0. 0. 0. 0. 0. 0. 0. 0. 1. 0.]\n",
            " [1. 0. 0. 0. 0. 0. 0. 0. 0. 0.]\n",
            " [0. 0. 0. 0. 0. 0. 0. 0. 0. 1.]\n",
            " [0. 0. 0. 0. 0. 0. 0. 1. 0. 0.]\n",
            " [0. 1. 0. 0. 0. 0. 0. 0. 0. 0.]\n",
            " [1. 0. 0. 0. 0. 0. 0. 0. 0. 0.]\n",
            " [0. 0. 0. 0. 0. 0. 0. 0. 1. 0.]\n",
            " [0. 0. 0. 0. 0. 0. 0. 1. 0. 0.]\n",
            " [0. 0. 0. 0. 0. 0. 0. 1. 0. 0.]\n",
            " [0. 0. 0. 0. 0. 0. 0. 1. 0. 0.]\n",
            " [1. 0. 0. 0. 0. 0. 0. 0. 0. 0.]\n",
            " [0. 0. 0. 1. 0. 0. 0. 0. 0. 0.]\n",
            " [0. 1. 0. 0. 0. 0. 0. 0. 0. 0.]\n",
            " [0. 0. 0. 0. 0. 0. 0. 0. 1. 0.]\n",
            " [0. 0. 0. 0. 0. 0. 1. 0. 0. 0.]\n",
            " [0. 0. 0. 1. 0. 0. 0. 0. 0. 0.]\n",
            " [1. 0. 0. 0. 0. 0. 0. 0. 0. 0.]\n",
            " [0. 0. 0. 1. 0. 0. 0. 0. 0. 0.]\n",
            " [0. 0. 0. 1. 0. 0. 0. 0. 0. 0.]\n",
            " [0. 0. 0. 0. 0. 0. 0. 1. 0. 0.]\n",
            " [0. 0. 0. 0. 0. 0. 1. 0. 0. 0.]\n",
            " [0. 0. 0. 0. 0. 0. 0. 0. 1. 0.]\n",
            " [0. 0. 0. 0. 1. 0. 0. 0. 0. 0.]\n",
            " [0. 1. 0. 0. 0. 0. 0. 0. 0. 0.]\n",
            " [0. 0. 0. 0. 0. 0. 0. 1. 0. 0.]\n",
            " [0. 0. 0. 0. 0. 0. 0. 1. 0. 0.]\n",
            " [0. 0. 0. 0. 0. 1. 0. 0. 0. 0.]\n",
            " [0. 0. 0. 0. 0. 0. 0. 1. 0. 0.]\n",
            " [0. 0. 0. 0. 1. 0. 0. 0. 0. 0.]\n",
            " [0. 0. 0. 0. 0. 1. 0. 0. 0. 0.]\n",
            " [0. 0. 0. 0. 1. 0. 0. 0. 0. 0.]\n",
            " [1. 0. 0. 0. 0. 0. 0. 0. 0. 0.]\n",
            " [0. 1. 0. 0. 0. 0. 0. 0. 0. 0.]]\n"
          ]
        }
      ]
    },
    {
      "cell_type": "markdown",
      "source": [
        "Compare binned regression models"
      ],
      "metadata": {
        "id": "ITqhIiWEtVV4"
      }
    },
    {
      "cell_type": "code",
      "source": [
        "#Bin test data\n",
        "\n",
        "X_test_binned = encoding_discretizer.transform(X_test)\n",
        "\n",
        "#create linear regression model\n",
        "\n",
        "model = LinearRegression().fit(X_binned, y)\n",
        "\n",
        "#create decision tree model\n",
        "\n",
        "decision_model = DecisionTreeRegressor(min_samples_split= 3).fit(X_binned, y)"
      ],
      "metadata": {
        "id": "mDPDQEjgtaj4"
      },
      "execution_count": 11,
      "outputs": []
    },
    {
      "cell_type": "code",
      "source": [
        "#score models\n",
        "\n",
        "linear_results = model.predict(X_test_binned)\n",
        "\n",
        "decision_results = decision_model.predict(X_test_binned)"
      ],
      "metadata": {
        "id": "YMqWHhbwuiOa"
      },
      "execution_count": 12,
      "outputs": []
    },
    {
      "cell_type": "code",
      "source": [
        "#plot results\n",
        "plt.plot(X[:, 0], y, 'o', c='k')\n",
        "\n",
        "plt.plot(X_test, linear_results, label=\"Linear Results\")\n",
        "\n",
        "plt.plot(X_test, decision_results, label=\"Decision Results\")\n",
        "\n",
        "plt.legend()"
      ],
      "metadata": {
        "colab": {
          "base_uri": "https://localhost:8080/",
          "height": 282
        },
        "id": "9WHkIA6YuUAt",
        "outputId": "7e85fac3-94e4-47eb-df7d-c581d177f461"
      },
      "execution_count": 14,
      "outputs": [
        {
          "output_type": "execute_result",
          "data": {
            "text/plain": [
              "<matplotlib.legend.Legend at 0x7fb0a74a8d90>"
            ]
          },
          "metadata": {},
          "execution_count": 14
        },
        {
          "output_type": "display_data",
          "data": {
            "text/plain": [
              "<Figure size 432x288 with 1 Axes>"
            ],
            "image/png": "[encoded data removed]"
          },
          "metadata": {
            "needs_background": "light"
          }
        }
      ]
    },
    {
      "cell_type": "markdown",
      "source": [
        "Build a linear regression model on staked data"
      ],
      "metadata": {
        "id": "Sc0rm1SmvisY"
      }
    },
    {
      "cell_type": "code",
      "source": [
        "#stack data\n",
        "\n",
        "X_stacked = numpy.hstack([X, X_binned])\n",
        "\n",
        "X_test_stacked = numpy.hstack([X_test, X_test_binned])\n",
        "\n",
        "print(X_stacked)"
      ],
      "metadata": {
        "colab": {
          "base_uri": "https://localhost:8080/"
        },
        "id": "0OCjPMxFvnPd",
        "outputId": "1a252710-8eae-47c3-d8b5-19ffc27df25e"
      },
      "execution_count": 18,
      "outputs": [
        {
          "output_type": "stream",
          "name": "stdout",
          "text": [
            "[[-0.75275929  0.          0.         ...  0.          0.\n",
            "   0.        ]\n",
            " [ 2.70428584  0.          0.         ...  0.          0.\n",
            "   1.        ]\n",
            " [ 1.39196365  0.          0.         ...  1.          0.\n",
            "   0.        ]\n",
            " ...\n",
            " [-0.43475389  0.          0.         ...  0.          0.\n",
            "   0.        ]\n",
            " [-2.84748524  1.          0.         ...  0.          0.\n",
            "   0.        ]\n",
            " [-2.35265144  0.          1.         ...  0.          0.\n",
            "   0.        ]]\n"
          ]
        }
      ]
    },
    {
      "cell_type": "code",
      "source": [
        "#use linear regression model on stacked data\n",
        "model = LinearRegression()\n",
        "\n",
        "model.fit(X_stacked, y)\n",
        "\n",
        "results = model.predict(X_test_stacked)\n"
      ],
      "metadata": {
        "id": "sZKn_md2v5jE"
      },
      "execution_count": 19,
      "outputs": []
    },
    {
      "cell_type": "code",
      "source": [
        "#plot results\n",
        "\n",
        "plt.plot(X[:, 0], y, 'o', c='k')\n",
        "\n",
        "plt.plot(X_test, results)"
      ],
      "metadata": {
        "colab": {
          "base_uri": "https://localhost:8080/",
          "height": 282
        },
        "id": "Mvs1hcCZwhoP",
        "outputId": "db762722-5c3b-4b4a-99d3-f57613f06416"
      },
      "execution_count": 20,
      "outputs": [
        {
          "output_type": "execute_result",
          "data": {
            "text/plain": [
              "[<matplotlib.lines.Line2D at 0x7fb0a7dc6610>]"
            ]
          },
          "metadata": {},
          "execution_count": 20
        },
        {
          "output_type": "display_data",
          "data": {
            "text/plain": [
              "<Figure size 432x288 with 1 Axes>"
            ],
            "image/png": "[encoded data removed]"
          },
          "metadata": {
            "needs_background": "light"
          }
        }
      ]
    }
  ]
}