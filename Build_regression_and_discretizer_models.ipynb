{
  "nbformat": 4,
  "nbformat_minor": 0,
  "metadata": {
    "colab": {
      "provenance": [],
      "authorship_tag": "ABX9TyP9IO6HxJHTVeRovR3SgzGP",
      "include_colab_link": true
    },
    "kernelspec": {
      "name": "python3",
      "display_name": "Python 3"
    },
    "language_info": {
      "name": "python"
    }
  },
  "cells": [
    {
      "cell_type": "markdown",
      "metadata": {
        "id": "view-in-github",
        "colab_type": "text"
      },
      "source": [
        "<a href=\"https://colab.research.google.com/github/JeanMichelDeveloper/Training/blob/main/Build_regression_and_discretizer_models.ipynb\" target=\"_parent\"><img src=\"https://colab.research.google.com/assets/colab-badge.svg\" alt=\"Open In Colab\"/></a>"
      ]
    },
    {
      "cell_type": "markdown",
      "source": [
        "Compare decision tree and linear regression models"
      ],
      "metadata": {
        "id": "Y-Th31nEsmbC"
      }
    },
    {
      "cell_type": "code",
      "execution_count": 1,
      "metadata": {
        "id": "xPZgIR8TrChW"
      },
      "outputs": [],
      "source": [
        "import numpy\n",
        "#create data\n",
        "def create_data():\n",
        "  random = numpy.random.RandomState(42)\n",
        "  x = random.uniform(-3, 3, size = 100)\n",
        "  y_no_randomness = (numpy.sin(3*x) + x)\n",
        "  y = (y_no_randomness + random.normal(size=len(x))) / 2\n",
        "  return x.reshape(-1, 1), y\n",
        "\n",
        "X, y = create_data()  "
      ]
    },
    {
      "cell_type": "code",
      "source": [
        "print(X)"
      ],
      "metadata": {
        "colab": {
          "base_uri": "https://localhost:8080/"
        },
        "id": "adm2Pinxo9Vb",
        "outputId": "3ae68251-e365-4cbb-81cf-80cbdca05823"
      },
      "execution_count": 2,
      "outputs": [
        {
          "output_type": "stream",
          "name": "stdout",
          "text": [
            "[[-0.75275929]\n",
            " [ 2.70428584]\n",
            " [ 1.39196365]\n",
            " [ 0.59195091]\n",
            " [-2.06388816]\n",
            " [-2.06403288]\n",
            " [-2.65149833]\n",
            " [ 2.19705687]\n",
            " [ 0.60669007]\n",
            " [ 1.24843547]\n",
            " [-2.87649303]\n",
            " [ 2.81945911]\n",
            " [ 1.99465584]\n",
            " [-1.72596534]\n",
            " [-1.9090502 ]\n",
            " [-1.89957294]\n",
            " [-1.17454654]\n",
            " [ 0.14853859]\n",
            " [-0.40832989]\n",
            " [-1.25262516]\n",
            " [ 0.67111737]\n",
            " [-2.16303684]\n",
            " [-1.24713211]\n",
            " [-0.80182894]\n",
            " [-0.26358009]\n",
            " [ 1.71105577]\n",
            " [-1.80195731]\n",
            " [ 0.08540663]\n",
            " [ 0.55448741]\n",
            " [-2.72129752]\n",
            " [ 0.64526911]\n",
            " [-1.97685526]\n",
            " [-2.60969044]\n",
            " [ 2.69331322]\n",
            " [ 2.7937922 ]\n",
            " [ 1.85038409]\n",
            " [-1.17231738]\n",
            " [-2.41396732]\n",
            " [ 1.10539816]\n",
            " [-0.35908504]\n",
            " [-2.26777059]\n",
            " [-0.02893854]\n",
            " [-2.79366887]\n",
            " [ 2.45592241]\n",
            " [-1.44732011]\n",
            " [ 0.97513371]\n",
            " [-1.12973354]\n",
            " [ 0.12040813]\n",
            " [ 0.28026168]\n",
            " [-1.89087327]\n",
            " [ 2.81750777]\n",
            " [ 1.65079694]\n",
            " [ 2.63699365]\n",
            " [ 2.3689641 ]\n",
            " [ 0.58739987]\n",
            " [ 2.53124541]\n",
            " [-2.46904499]\n",
            " [-1.82410283]\n",
            " [-2.72863627]\n",
            " [-1.04801802]\n",
            " [-0.66793626]\n",
            " [-1.37190581]\n",
            " [ 1.97242505]\n",
            " [-0.85948004]\n",
            " [-1.31439294]\n",
            " [ 0.2561765 ]\n",
            " [-2.15445465]\n",
            " [ 1.81318188]\n",
            " [-2.55269614]\n",
            " [ 2.92132162]\n",
            " [ 1.63346862]\n",
            " [-1.80770591]\n",
            " [-2.9668673 ]\n",
            " [ 1.89276857]\n",
            " [ 1.24114406]\n",
            " [ 1.37404301]\n",
            " [ 1.62762208]\n",
            " [-2.55573209]\n",
            " [-0.84920563]\n",
            " [-2.30478564]\n",
            " [ 2.17862056]\n",
            " [ 0.73978876]\n",
            " [-1.01461185]\n",
            " [-2.6186499 ]\n",
            " [-1.13410607]\n",
            " [-1.04890007]\n",
            " [ 1.37763707]\n",
            " [ 0.82534483]\n",
            " [ 2.32327646]\n",
            " [-0.16671045]\n",
            " [-2.28243452]\n",
            " [ 1.27946872]\n",
            " [ 1.56471029]\n",
            " [ 0.36766319]\n",
            " [ 1.62580308]\n",
            " [-0.03722642]\n",
            " [ 0.13639698]\n",
            " [-0.43475389]\n",
            " [-2.84748524]\n",
            " [-2.35265144]]\n"
          ]
        }
      ]
    },
    {
      "cell_type": "code",
      "source": [
        "print(y)"
      ],
      "metadata": {
        "colab": {
          "base_uri": "https://localhost:8080/"
        },
        "id": "Dl6_k1k7o-rg",
        "outputId": "ce69ee28-5ece-443c-d49d-1446efa765b6"
      },
      "execution_count": 3,
      "outputs": [
        {
          "output_type": "stream",
          "name": "stdout",
          "text": [
            "[-0.71927944  1.68597842  0.31211026 -0.20828425 -1.09608346 -0.80797977\n",
            " -1.08427853  0.99096301  0.38364414  0.08948738 -1.33758189  1.98552794\n",
            "  0.58506141 -0.15955191 -0.64207511 -0.18958672 -0.7518895   0.12594502\n",
            " -0.87062019 -1.06906714  0.93544887 -1.05322723 -0.33876911 -0.85391158\n",
            " -1.19491248  0.18881958 -0.68782375 -0.23172249  0.69445564 -1.6348037\n",
            "  1.73278742 -0.72846005 -1.6759149   1.79672361  0.86957103  0.57774349\n",
            " -0.37274008 -0.38459003  0.36966058 -0.46909922 -1.39973612 -0.64216159\n",
            " -1.25757664  2.04598179  0.13794205  0.14012881  0.25907318 -0.46401154\n",
            "  0.80614282  0.43645662  1.32656481  0.05658084  1.8675105   1.29957912\n",
            "  0.00923734  1.78306762 -2.21658146 -0.31280946 -2.2967383   0.25218889\n",
            " -1.17944769 -0.43337845  1.21407147 -1.31209946 -0.18423636  1.12919902\n",
            " -1.97057161  0.62537411 -1.63684377  2.15845174 -0.29292947 -1.18513794\n",
            " -1.4727128   0.8105451   0.4710376   0.4448476  -0.01895328 -1.65304233\n",
            " -0.5578967  -1.80461406  2.14719565  1.00528505 -1.15175841 -1.48104718\n",
            " -0.92550304 -0.12835397  0.84974196  0.31108039  1.96029897 -0.11673516\n",
            " -0.99752263  1.26724222  0.15974443  0.25324322 -0.12506319 -0.48224198\n",
            "  0.22858122 -0.52914567 -1.67150543 -1.11250961]\n"
          ]
        }
      ]
    },
    {
      "cell_type": "code",
      "source": [
        "#create and score decision tree model\n",
        "from sklearn.tree import DecisionTreeRegressor\n",
        "\n",
        "decision_model = DecisionTreeRegressor(min_samples_leaf = 3).fit(X,y)\n",
        "\n",
        "import matplotlib.pyplot as plt\n",
        "\n",
        "X_test = numpy.linspace(-3, 3, 1000, endpoint = False).reshape(-1, 1)\n",
        "\n",
        "score = decision_model.predict(X_test)\n",
        "\n"
      ],
      "metadata": {
        "colab": {
          "base_uri": "https://localhost:8080/",
          "height": 282
        },
        "id": "0x9Ooh9FpDWF",
        "outputId": "091647f9-b4c9-4e81-d371-b59146f57cec"
      },
      "execution_count": 6,
      "outputs": [
        {
          "output_type": "execute_result",
          "data": {
            "text/plain": [
              "[<matplotlib.lines.Line2D at 0x7f7250f2ff90>]"
            ]
          },
          "metadata": {},
          "execution_count": 6
        },
        {
          "output_type": "display_data",
          "data": {
            "text/plain": [
              "<Figure size 432x288 with 1 Axes>"
            ],
            "image/png": "[encoded data removed]"
          },
          "metadata": {
            "needs_background": "light"
          }
        }
      ]
    },
    {
      "cell_type": "code",
      "source": [
        "#create and score linear regression model\n",
        "\n",
        "from sklearn.linear_model import LinearRegression\n",
        "\n",
        "linear_model = LinearRegression().fit(X,y)\n",
        "\n",
        "linear_results = linear_model.predict(X_test)"
      ],
      "metadata": {
        "id": "IcuvkrDOqtjj"
      },
      "execution_count": 8,
      "outputs": []
    },
    {
      "cell_type": "code",
      "source": [
        "plt.plot(X_test, score, label = \"Decision tree\")\n",
        "\n",
        "plt.plot(X[:, 0], y, 'o', c='k')\n",
        "\n",
        "plt.plot(X_test, linear_results, label = \"Linear Regression\")\n",
        "\n",
        "plt.legend()"
      ],
      "metadata": {
        "colab": {
          "base_uri": "https://localhost:8080/",
          "height": 282
        },
        "id": "eMNYQewlqcDe",
        "outputId": "a483abcd-e701-404f-f683-e7dff377eae0"
      },
      "execution_count": 9,
      "outputs": [
        {
          "output_type": "execute_result",
          "data": {
            "text/plain": [
              "<matplotlib.legend.Legend at 0x7f725057df50>"
            ]
          },
          "metadata": {},
          "execution_count": 9
        },
        {
          "output_type": "display_data",
          "data": {
            "text/plain": [
              "<Figure size 432x288 with 1 Axes>"
            ],
            "image/png": "[encoded data removed]"
          },
          "metadata": {
            "needs_background": "light"
          }
        }
      ]
    }
  ]
}