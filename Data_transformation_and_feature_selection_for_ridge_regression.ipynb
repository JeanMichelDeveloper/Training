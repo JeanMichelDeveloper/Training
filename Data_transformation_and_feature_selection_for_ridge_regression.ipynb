{
  "nbformat": 4,
  "nbformat_minor": 0,
  "metadata": {
    "colab": {
      "provenance": [],
      "authorship_tag": "ABX9TyPoknoqXsSwfnc8MiSOUUcz",
      "include_colab_link": true
    },
    "kernelspec": {
      "name": "python3",
      "display_name": "Python 3"
    },
    "language_info": {
      "name": "python"
    }
  },
  "cells": [
    {
      "cell_type": "markdown",
      "metadata": {
        "id": "view-in-github",
        "colab_type": "text"
      },
      "source": [
        "<a href=\"https://colab.research.google.com/github/JeanMichelDeveloper/Training/blob/main/Data_transformation_and_feature_selection_for_ridge_regression.ipynb\" target=\"_parent\"><img src=\"https://colab.research.google.com/assets/colab-badge.svg\" alt=\"Open In Colab\"/></a>"
      ]
    },
    {
      "cell_type": "markdown",
      "source": [
        "Build univariate nonlinear transformations with NumPy statistics"
      ],
      "metadata": {
        "id": "-8OIn2EdFgN1"
      }
    },
    {
      "cell_type": "code",
      "execution_count": 1,
      "metadata": {
        "colab": {
          "base_uri": "https://localhost:8080/"
        },
        "id": "cqIrwrbIFV9x",
        "outputId": "5440e5e6-9177-43be-fcde-29c95bda7189"
      },
      "outputs": [
        {
          "output_type": "stream",
          "name": "stdout",
          "text": [
            "[[ 1.76405235  0.40015721  0.97873798]\n",
            " [ 2.2408932   1.86755799 -0.97727788]\n",
            " [ 0.95008842 -0.15135721 -0.10321885]\n",
            " ...\n",
            " [-1.30322008  0.46675065  0.16110632]\n",
            " [ 0.32003193  2.07917666 -0.90746598]\n",
            " [-0.19240421 -1.21251574 -0.08059852]]\n"
          ]
        }
      ],
      "source": [
        "#create data\n",
        "import numpy\n",
        "\n",
        "random = numpy.random.RandomState(0)\n",
        "\n",
        "X = random.normal(size = (1000, 3))\n",
        "\n",
        "print(X)"
      ]
    },
    {
      "cell_type": "code",
      "source": [
        "#create weights\n",
        "weights = random.normal(size = 3)\n",
        "\n",
        "print(weights)"
      ],
      "metadata": {
        "colab": {
          "base_uri": "https://localhost:8080/"
        },
        "id": "n8tlESiCF-EE",
        "outputId": "9f61526f-4fb0-4df2-f752-73edfc320b86"
      },
      "execution_count": 2,
      "outputs": [
        {
          "output_type": "stream",
          "name": "stdout",
          "text": [
            "[ 1.59327362  0.5687224  -0.11448705]\n"
          ]
        }
      ]
    },
    {
      "cell_type": "markdown",
      "source": [
        "Build X and Y data with Poisson distribution in Numpy"
      ],
      "metadata": {
        "id": "UDi42rhfGzJI"
      }
    },
    {
      "cell_type": "code",
      "source": [
        "#Create X\n",
        "from numpy.random import default_rng\n",
        "\n",
        "range = default_rng()\n",
        "\n",
        "X = range.poisson(10*numpy.exp(X))\n",
        "\n",
        "print(X)"
      ],
      "metadata": {
        "colab": {
          "base_uri": "https://localhost:8080/"
        },
        "id": "OjsQLlm7G5lh",
        "outputId": "007f8a30-01c7-4306-f915-de4f62e7b477"
      },
      "execution_count": 3,
      "outputs": [
        {
          "output_type": "stream",
          "name": "stdout",
          "text": [
            "[[59  9 34]\n",
            " [98 59  5]\n",
            " [27  8  8]\n",
            " ...\n",
            " [ 3 13 11]\n",
            " [12 84  3]\n",
            " [10  4 10]]\n"
          ]
        }
      ]
    },
    {
      "cell_type": "code",
      "source": [
        "#Create y\n",
        "y = numpy.dot(X, weights)\n",
        "\n",
        "print(y)"
      ],
      "metadata": {
        "colab": {
          "base_uri": "https://localhost:8080/"
        },
        "id": "A9Usedk7HbhZ",
        "outputId": "fdf64000-5212-4fd1-fa15-f34c376e7320"
      },
      "execution_count": 4,
      "outputs": [
        {
          "output_type": "stream",
          "name": "stdout",
          "text": [
            "[ 9.52290854e+01  1.89123001e+02  4.66522705e+01  2.63631944e+01\n",
            "  4.01572633e+01  3.58305945e+01  3.00421570e+01  3.06045056e+01\n",
            "  1.53061329e+02  3.36415411e+01  3.11748215e+01  7.86558004e-01\n",
            "  7.32751776e+01  1.85489675e+01  5.22090412e+01  9.09055503e+00\n",
            "  1.04617385e+01  2.60579133e+01  2.45685142e+01  2.79882900e+01\n",
            "  1.12610285e+01  8.53031009e+00  1.02364773e+01  2.60462332e+01\n",
            "  4.74473217e+01  8.19003588e+00  1.82044388e+01  6.38395837e+01\n",
            "  1.03170468e+02  1.95470030e+01  3.54839464e+01  5.19886077e+01\n",
            "  4.48124789e+01  4.68674135e+01  2.05874416e+01  1.24610310e+02\n",
            "  1.26619081e+02  2.30520892e+01  2.36441246e+01  3.42283175e+01\n",
            "  3.41308169e+01  7.63589337e+01  3.83190652e+01  2.75292742e+01\n",
            "  1.02343579e+01  4.69856449e+01  2.21897501e+01  2.78631904e+01\n",
            "  1.81166735e+02  3.17472724e+01  5.25604855e+01  1.10320544e+01\n",
            "  5.62172184e+01  6.32642115e+00  5.14363300e+01  4.44955807e+01\n",
            "  5.81306087e+01  2.99228896e+01  1.61521495e+01  1.17126186e+01\n",
            "  1.14889508e+01  8.87058429e+00  1.38772599e+01  9.83181162e+01\n",
            "  8.40946495e+00  1.61388916e+01  1.61016001e+02  3.12755090e+01\n",
            "  4.16466624e+01  1.22802734e+01  3.45765590e+01  1.20597926e+01\n",
            "  1.68734858e+01  2.17339213e+01  1.58102818e+01  2.08132445e+01\n",
            "  1.43346822e+01  9.77588384e+00  1.28208867e+01  7.38225270e+00\n",
            "  1.51281399e+01  1.02380707e+01  6.37187228e+01  1.97897451e+01\n",
            "  2.90027545e+01  5.31435648e+01  1.19410510e+01  7.72837487e+00\n",
            "  8.17359110e+00  2.93494026e+01  2.28209957e+01  2.58289392e+01\n",
            "  2.86757382e+01  1.39272024e+02  2.76352523e+01  2.74063097e+01\n",
            "  5.13159950e+01  6.66587363e+01  3.65095652e+01  3.83382025e+01\n",
            "  3.55978918e+01  1.50141788e+01  4.19624713e+00  9.76050662e+00\n",
            "  6.59304943e+00  2.05932896e+01  1.50136529e+01  1.26269215e+01\n",
            "  1.02338320e+01  1.26882028e+02  3.93590409e+01  3.85649883e+00\n",
            "  1.14846963e+01  1.06281282e+02  9.89196435e+00  7.49409448e+00\n",
            "  2.48027946e+01  2.93488452e+01  1.12642154e+01  1.00006192e+01\n",
            "  4.26627204e+01  3.42426429e+01  2.12727862e+01  1.09180933e+01\n",
            "  3.92487926e+01  3.41323946e+01  1.97934580e+01  2.29853272e+01\n",
            "  2.52618103e+01  2.88770975e+01  3.69797352e+01  5.68510463e+00\n",
            "  4.50308719e+01  4.36978842e+01  4.71123380e+01  5.75677027e+01\n",
            "  2.76527804e+01  3.92578117e+01  9.48962211e+01  4.42204277e+01\n",
            "  5.23448007e+01  2.76474741e+01  4.64301961e+01  1.75228228e+01\n",
            "  4.83573701e+01  3.65164649e+01  2.99239572e+01  8.41211021e+00\n",
            "  3.96998410e+01  7.04728479e+00  1.48896050e+01  2.63504624e+01\n",
            "  1.37633145e+01  1.54716010e+01  1.60339496e+01  1.56364482e+02\n",
            "  1.08067931e+01  1.06923061e+01  9.86318590e+01  1.50003793e+01\n",
            "  4.74462384e+01  2.58268041e+01  7.43055768e+01  1.25135020e+01\n",
            "  5.48464761e+01  2.23010502e+01  7.73049423e+00  3.82226321e+01\n",
            "  1.16055572e+01 -5.93118737e-01  5.82567443e+01  2.15085753e+00\n",
            "  4.94873892e+01  9.59335042e+01  4.65843405e+00  1.96524552e+01\n",
            "  1.25118928e+01  5.27841690e+01  5.79535294e+00  1.28537762e+01\n",
            "  1.77475582e+01  6.98681653e+01  4.57278966e+01  1.13659705e+01\n",
            "  3.47053715e+01  5.99682493e+01  1.88741618e+00  1.58124012e+01\n",
            "  1.75090233e+01  3.28794109e+01  3.11732438e+01  3.70899677e+01\n",
            "  6.36778817e+00  4.82487310e+01  2.28639247e+01  9.99902573e+00\n",
            "  5.67874653e+00  2.21865632e+01  2.41179916e+01  2.46893751e+01\n",
            "  1.09196867e+01  2.71948322e+01  1.00101642e+01  7.28156517e+00\n",
            "  3.85687543e+01  2.62762748e+01  5.89399853e+01  2.03621961e+01\n",
            "  9.66299025e+00  7.97627749e+01  1.05629677e+01  1.42127694e+01\n",
            "  1.83046005e+01  7.10972942e+01  6.69143049e+01  3.79978968e+01\n",
            "  3.43470275e+01  8.52341033e+00  2.03611285e+01  7.05311698e+00\n",
            "  4.99765645e+00  2.73077258e+01  3.65238906e+01  2.38959173e+01\n",
            "  1.92930910e+00  1.87493066e+01  6.07654042e+01  5.31255266e+01\n",
            "  3.47273823e+00 -7.70245405e+00  3.23138597e+01  3.39112499e+00\n",
            "  1.71735295e+01  3.09516953e+01  1.81911652e+01  1.47472115e+02\n",
            "  6.55415122e+01  2.69658581e+01  7.27170835e+01  2.82156548e+01\n",
            "  2.05858639e+01  7.16707813e+00  2.11439580e+01  2.69695710e+01\n",
            " -3.15584602e+00  9.89672898e+00  1.39965273e+01  4.54999271e+01\n",
            "  1.19346929e+01  3.61783259e+01  4.18682109e+01  9.96765836e+01\n",
            "  3.60675516e+01  5.33952413e+00  3.85666349e+01  8.63525211e+00\n",
            "  1.05719475e+02  1.30785116e+01  1.20555538e+01  1.77438454e+01\n",
            "  7.88468785e+01  7.72518794e+00  4.02802278e+01  2.02530154e+01\n",
            "  2.55919821e+01  2.16183667e+01  8.85044245e+00  4.07387176e+01\n",
            "  4.10715662e+01  1.39922886e+01  1.17020060e+01  8.48734960e+00\n",
            "  5.00491803e+01  1.76298842e+01  1.42217886e+01  1.06244234e+01\n",
            "  5.81391019e+01  5.67753283e+01  3.34481176e+01  2.55930654e+01\n",
            "  1.56910301e+01  1.44863851e+02  3.66436997e+01  1.22866473e+01\n",
            "  5.91355282e+00  6.36566881e+00  6.23473698e+00  2.09309185e+01\n",
            "  2.07035379e+01  1.27255054e+01  6.34934773e+01  1.67208719e+01\n",
            "  1.63758330e+01  2.28644506e+01  2.44609269e+01  1.35343246e+01\n",
            "  2.27547597e+01  4.44844265e+01  5.63045851e+01  8.12117642e+01\n",
            "  8.17889739e+00  1.61182239e+01  1.62496816e+01  5.72417697e+01\n",
            "  4.16503753e+01  5.40499161e+01  3.14032696e+01  6.01786278e+01\n",
            "  7.39387080e+01  1.60069080e+01  6.69084727e+01  8.19003588e+00\n",
            "  4.12904221e+01  2.02301967e+01  9.54250596e+01  2.60303301e+01\n",
            "  3.92567441e+01  4.98276477e+01  2.85485192e+01  7.38252728e+01\n",
            "  1.83072457e+01  2.70787517e+01  3.67279267e+01  4.17484175e+01\n",
            "  3.31602641e+01  1.34240921e+01  1.43251371e+01  1.54546304e+01\n",
            "  1.88791551e+01  4.61916455e+01  3.58417487e+01  2.44540271e+01\n",
            "  2.19559956e+01  2.13798476e+01  2.02482350e+01  3.28857690e+01\n",
            "  1.47873240e+01  8.31549674e+01  3.06463453e+00  9.43666143e+00\n",
            "  5.29098103e+01  2.82098069e+01  4.07592789e+00  1.09154480e+01\n",
            "  8.51811980e+00  5.96088536e+01  2.88718385e+01  2.80873841e+01\n",
            "  7.53227023e+01  1.47873240e+01  1.11476090e+01  2.06465400e+02\n",
            "  2.62709528e+01  9.89460961e+00  1.53518077e+01  2.65068424e+01\n",
            "  2.59370524e+01  8.41582304e+00  2.36552631e+01  7.95363613e+00\n",
            "  1.95591933e+01  7.04940415e+00  7.27202015e+00  1.85452547e+01\n",
            " -4.84027791e+00  2.84403902e+01  2.96976283e+01  4.47086044e+01\n",
            "  1.29629570e+01  5.02765925e+01  4.73174259e+01  6.32050192e+01\n",
            "  1.23756704e+01  1.89803842e+01  1.56836045e+01  4.75564867e+01\n",
            "  2.37809044e+01  2.91145805e+01  1.22792216e+01  3.93568900e+01\n",
            " -3.79521861e-01  9.66456796e+00  8.73595540e+00  1.94558448e+01\n",
            "  3.25301019e+01  6.13293619e+01  7.96562551e+01  8.90902555e+01\n",
            "  4.07037087e+01  2.93536413e+01  3.15145855e+01  5.41447242e+01\n",
            "  3.77758382e+01  8.23619883e+01  9.55964170e+00  1.47719468e+01\n",
            "  4.19885301e+01  5.38230614e+01  6.03010821e+01  1.01129337e+00\n",
            " -4.86583249e-01  2.04819895e+01  5.57385868e+01  4.36846106e+01\n",
            "  2.08121770e+01  2.43384725e+01  3.29201516e+00  3.68514171e+01\n",
            "  1.92151905e+01  2.08180249e+01  5.39370068e+01  7.24912964e+01\n",
            "  5.26824297e+01  7.31314508e+01  3.68583484e+01  4.83557766e+01\n",
            "  1.45631303e+01  3.51468591e+01  9.10381288e+00  5.17750265e+01\n",
            "  2.09341054e+01  1.11401392e+02  6.01727483e+01  1.27776715e+02\n",
            "  9.27400730e+01  3.37984942e+01  9.89142268e+00  1.66042655e+01\n",
            "  1.05677481e+01  1.10013000e+01  2.05890508e+01  3.84478776e+01\n",
            "  3.46931654e+01 -9.15896365e-01  2.28676533e+01  1.01198709e+01\n",
            "  2.80921644e+01  1.58081624e+01  1.88807485e+01  1.27392892e+01\n",
            "  1.18286991e+01  9.10010005e+00  6.14268783e+01  3.33336305e+01\n",
            "  2.28681792e+01 -2.88126618e+00  2.27483701e+01  1.30800893e+01\n",
            "  3.12765923e+01  1.73945363e+01  8.29120992e+01  1.75238841e+02\n",
            "  2.18468149e+01  5.43173420e+00  1.79743972e+01  9.43242270e+00\n",
            "  3.68572808e+01  1.17915708e+01  1.49023370e+01  3.34518462e+01\n",
            "  5.24455040e+01  6.83676276e+01  1.33080116e+01  6.25823456e+01\n",
            "  2.77492134e+01  8.98613890e+00  2.99239572e+01  2.77269680e+01\n",
            "  1.11464192e+00  1.07159445e+02  1.50168398e+01  1.60440363e+01\n",
            "  9.29785921e+01  4.77451455e+00  5.56384094e+01  3.24140371e+01\n",
            "  1.03483191e+01  1.24026746e+00  2.39806860e+01  1.74936461e+01\n",
            "  1.60265397e+01  2.03515835e+01  7.35043071e+00  2.26233020e+01\n",
            "  3.69744131e+01  1.20613860e+01 -3.22632079e+00  3.77737188e+01\n",
            "  2.69621453e+01  3.08281892e+01  4.36946973e+01  1.59221236e+01\n",
            "  1.85298617e+01  2.98105219e+01  1.05666806e+01  4.41271658e+01\n",
            "  2.61063119e+02  7.38862656e+00  1.86475199e+01  2.27526403e+01\n",
            "  2.21812569e+01  9.65715806e+00  1.98915160e+01  2.25420609e+00\n",
            "  6.58721724e+00  1.89978966e+01  7.70769136e+00  1.07643743e+01\n",
            "  8.25845727e+01  7.27181511e+01  1.77422362e+01  2.17323278e+01\n",
            " -2.65388556e+00  2.18346088e+01  4.64301961e+01  5.73509504e+01\n",
            "  2.70675975e+01  2.25156989e+01  4.94841865e+01  2.04724444e+01\n",
            "  7.52220148e+01  4.00464891e+01  2.41137529e+01  8.18632305e+00\n",
            " -4.13479149e+00  3.46809751e+01  5.22132425e+00  5.84894470e+01\n",
            "  1.51254789e+01  2.35325832e+02  6.47484956e+00  4.53812328e+01\n",
            "  2.85511487e+01  1.25092475e+01  1.05810060e+01  4.36851365e+01\n",
            "  8.63048748e+00  1.41570784e+02  1.00011451e+01  1.10369941e+02\n",
            "  4.54925329e+00  7.31676061e+01  2.95820737e+01  5.35946132e+01\n",
            "  3.26546756e+01  8.63260684e+00  1.33053663e+01  6.27016130e+01\n",
            "  6.84905606e+01  2.21674731e+01  3.53891068e+01  3.51633197e+01\n",
            "  4.34498201e+01  1.92178516e+01  8.98925685e-01  2.57149781e+01\n",
            "  1.72922553e+01  4.83536730e+01  4.38038623e+01  7.51789755e+01\n",
            "  2.25231246e+01  1.54078438e+02  1.37447503e+01 -2.19222455e+00\n",
            "  1.56815531e+02  5.30253649e+01  2.63912878e+01  3.19693310e+01\n",
            "  4.52693595e+01  5.44765308e+00  3.57304486e+01  2.68534905e+01\n",
            "  1.04606867e+01  3.50504261e+01  8.89906356e+01  5.11988627e+01\n",
            "  2.85628446e+01  1.45137742e+02  5.07308121e+01  1.66058589e+01\n",
            "  8.40946495e+00  1.51281241e+01 -3.68638833e+00  1.32804283e+01\n",
            "  5.46122804e+01  1.21705668e+01  7.07782294e+01  1.90010835e+01\n",
            "  2.92211003e+01  3.29647370e+01  1.17179249e+01  3.63929745e+01\n",
            "  5.57587286e+01  1.41671637e+01  1.21689733e+01  2.09208476e+01\n",
            "  2.11630795e+01  3.45903585e+01  9.89408371e+00  3.18585726e+01\n",
            "  3.00156413e+01  6.07680652e+01  4.20631806e+00  4.08510853e+01\n",
            "  4.87066792e+01  6.86998714e+01  8.75875828e+00  2.67331554e+01\n",
            "  4.77239519e+00  3.86726130e+01  1.92284641e+01  1.59258364e+01\n",
            "  2.65079100e+01  1.10230353e+01  2.36632146e+01  1.96832254e+01\n",
            "  4.06061608e+01  9.54743565e+00  1.51074564e+01  1.80873065e+01\n",
            "  1.02375448e+01  1.25081800e+01  2.50291234e+01  1.07998934e+01\n",
            "  6.70701058e+00  1.20581991e+01  3.68551615e+01  1.53226310e+01\n",
            "  7.51053926e+00  7.72583853e+01  3.41175118e+01  4.42586393e+01\n",
            "  9.19482087e+01  3.74318512e+01  1.23974215e+01  2.82161965e+01\n",
            "  4.63510527e+00  9.54584218e+00  4.96956956e+01  1.02274582e+01\n",
            "  7.00966134e+01  1.56793657e+01  5.11685869e+01  4.54029839e+01\n",
            "  1.50067531e+01  5.40499161e+01  4.60755965e+01  5.71193153e+01\n",
            "  1.11428286e+01  1.50218242e+02  8.64798406e+00  7.61441372e+00\n",
            "  2.65020778e+01  1.00673026e+02  6.45974594e+01  6.69639799e+00\n",
            "  1.28330927e+01  1.37622469e+01  2.19448571e+01  1.94574382e+01\n",
            "  1.50141788e+01  1.19458314e+01  2.05916961e+01  3.52671784e+01\n",
            "  5.13154849e+01  3.49184109e+01  5.68829155e+00  1.28527087e+01\n",
            "  1.70632812e+01  2.11407868e+01  1.69403167e+01  4.58572192e+01\n",
            "  3.29986626e+01  2.46798300e+01  3.62896102e+01  3.72927983e+00\n",
            "  2.21695925e+01  1.47645212e+01  9.18331800e+01  8.35111447e+01\n",
            "  9.43878079e+00  2.18431020e+01  3.36739047e+01  3.29970849e+01\n",
            "  1.95533454e+01  1.99132671e+01  1.53437872e+01  2.87875642e+01\n",
            "  7.96318115e+00  6.25637972e+01  8.18113514e+01  2.97967382e+01\n",
            "  2.64787332e+01  4.75607412e+01  6.81459787e+00  6.57819812e+00\n",
            "  9.65907396e+01  2.41174657e+01  4.76725829e+01  1.08767262e+01\n",
            "  2.10422186e+01  2.55511409e+01  3.23112145e+01  4.32006411e+01\n",
            "  7.96636808e+00  7.70026570e+00  1.60201658e+01  2.03659089e+01\n",
            "  1.64913719e+01  1.86486033e+01  5.29975057e+00  4.88528877e+00\n",
            "  6.12116722e+01  4.77080173e+00  9.78383539e+00  9.65609050e+00\n",
            "  1.86597417e+01  1.05597966e+01  2.18446955e+01  4.43476625e+00\n",
            "  4.09183101e+00  5.04112529e+01  1.75191100e+01  3.31544635e+01\n",
            "  2.59280491e+01  6.01924273e+01  3.08318862e+01  4.77610802e+00\n",
            "  2.74089235e+01  3.86021165e+00  3.41207144e+01  4.07645379e+00\n",
            "  4.07201062e+01  3.59551840e+01  5.71092444e+01  3.81150449e+01\n",
            "  2.27520987e+01  9.74096455e+01  5.87325336e+00  8.19003588e+00\n",
            "  7.36154833e+01  1.15891124e+01  5.05236206e+01  2.74121104e+01\n",
            "  2.74110428e+01  2.26296601e+01  1.46749564e+01  4.75395002e+01\n",
            "  2.94855402e+00  2.79909352e+01  4.01593669e+01  4.10816529e+01\n",
            "  2.04745638e+01  5.87147083e+01  1.18286833e+01  3.88025088e+01\n",
            "  2.93531154e+01  1.90943454e+01  3.03723446e+01  9.80907199e+01\n",
            "  1.79722778e+01  7.38915246e+00  7.27095258e+00  1.61399592e+01\n",
            "  3.20822932e+00  4.19800211e+01  7.61760065e+00  2.82082134e+01\n",
            "  2.58289392e+01  5.09613639e+01  2.84446447e+01  2.43241629e+01\n",
            "  2.26344404e+01  2.85511644e+01  1.10209159e+01  6.78105381e+01\n",
            "  2.78716678e+01  3.34507786e+01  2.20715502e+01  1.92930910e+00\n",
            "  4.60861933e+01  3.07152956e+01  5.65086842e+01  2.28681792e+01\n",
            "  4.76837214e+01  3.12803051e+01  1.80931387e+01  1.54737204e+01\n",
            "  6.01849484e+00  2.05720802e+01  6.93036816e+01  9.32429375e+00\n",
            "  1.94404518e+01  6.47273867e+01  3.07062449e+01  5.45348527e+00\n",
            "  1.85378133e+01  3.20806311e+01  2.22962698e+01  2.69663840e+01\n",
            "  2.88988801e+01  3.95890668e+01  2.89969066e+01  5.35935614e+01\n",
            "  2.77635546e+01  1.69749279e+02  4.55068741e+01  9.21087427e+00\n",
            "  1.76335971e+01  4.41420329e+01  1.88892417e+01  3.17493918e+01\n",
            "  7.27042668e+00  3.48166716e+01  3.69770742e+01  1.67187525e+01\n",
            "  2.46479923e+01  7.89714365e+01  2.92787051e+00  9.31686809e+00\n",
            "  8.17942329e+00  1.93365616e+01  1.63795301e+01  1.69519811e+01\n",
            "  1.81853488e+00  1.46739046e+01  3.95901344e+01  8.01147292e+01\n",
            "  6.58562378e+00  3.55915495e+01  3.21521735e+01  7.20243291e+01\n",
            "  4.41340656e+01  5.11002413e+00  1.06283958e+02  2.20672800e+01\n",
            "  8.97923915e+00  1.40961630e+01  1.42233820e+01  4.93882952e+01\n",
            "  1.35088765e+01  2.34374432e+01  3.73216029e+01  3.23128079e+01\n",
            "  9.10010005e+00  2.74036487e+01  1.24906991e+01  3.26414020e+01\n",
            "  1.44397426e+02  3.39076750e+01  1.81270268e+00  4.36867300e+01\n",
            "  4.31238556e+01  4.09560116e+01  7.20354676e+01  2.44529596e+01\n",
            "  1.32920927e+01  4.36941557e+01  1.83136196e+01  1.44406917e+01\n",
            " -2.36399749e-01  3.54998810e+01  1.62629237e+01  1.24719475e+02\n",
            "  3.63002386e+01  2.09272057e+01  1.09128027e+01  2.00250931e+01\n",
            "  1.37659598e+01  3.58444097e+01  2.52559623e+01  7.24827874e+01\n",
            "  1.76373099e+01  2.54297857e+01  2.40866798e+01  2.05784383e+01\n",
            "  1.04574063e+02  9.30520370e+00  2.45727687e+01  2.71942906e+01\n",
            "  3.05965540e+01  1.84323611e+01  4.21067300e+01  7.95044920e+00\n",
            "  5.64445991e+01  1.45498567e+01  4.77902412e+01  5.27703537e+01\n",
            "  1.47830853e+01  8.14017564e+00  3.20742573e+01  5.21078593e+01\n",
            "  6.36148641e+01  1.19410510e+01  1.08067931e+01  5.47352449e+01\n",
            "  1.75127362e+01  1.20555538e+01  2.33107501e+01  4.82322547e+01\n",
            "  4.66533380e+00  2.21807310e+01  2.60509288e+00  4.42559941e+01\n",
            "  3.17446114e+01  1.00101642e+01  4.69930706e+01  2.66229229e+01\n",
            "  1.14820510e+01  2.43757443e+00  4.01668083e+01  1.53305983e+01\n",
            "  2.53534945e+01  4.29976568e+01  8.96757476e+00  5.02903920e+01\n",
            "  3.74943744e+00  1.67171590e+01  1.39832695e+01  7.10396004e+00\n",
            "  2.16194343e+01  4.46079484e+01  1.03520319e+01  4.76667192e+01\n",
            "  2.90053998e+01  8.06176508e+00  4.17590144e+01  2.26338988e+01\n",
            "  2.05911544e+01  5.48163008e+01  1.02258805e+01  9.21299363e+00\n",
            "  6.14305281e+00  2.74238063e+01  1.30700184e+01  2.98142505e+01\n",
            "  4.56054107e+01  1.37924695e+02 -3.47173966e-01  9.32164848e+00\n",
            "  2.88962190e+01  1.80894259e+01  1.85314552e+01  7.03202812e+01\n",
            "  1.03302808e+01  3.33341564e+01  8.74231350e+00  1.76373099e+01\n",
            "  3.33208986e+01  3.20854273e+01  4.06210437e+01  4.71080993e+01\n",
            "  4.73375993e+01 -2.79860113e+00  1.29417476e+01  1.30859372e+01\n",
            "  7.49755284e+01  1.33111985e+01  2.33102242e+01  1.18308185e+01\n",
            "  8.97978081e+00  2.90037906e+01  6.69427863e+00  2.30669090e+01\n",
            "  5.75406453e+01  1.10255965e+02  6.59835573e+00  1.31935245e+01\n",
            "  7.84657474e+00  1.53587075e+01  1.37622469e+01  6.88494462e+01\n",
            "  5.89658214e+00  8.54515766e+01  1.93302192e+01  8.52395199e+00\n",
            "  2.01358673e+01  4.08420504e+01  2.26163175e+00  7.38067500e+00\n",
            "  5.89605624e+00  5.66687928e+01  1.11481349e+01  2.75324612e+01\n",
            "  2.04761415e+01  1.81848229e+01  2.28687051e+01  3.05923153e+01\n",
            "  2.22750604e+01  7.50682643e+00  4.20419869e+00  2.44659355e+00\n",
            "  4.88073510e+01  5.89870150e+00  6.47484956e+00  4.45835048e+01\n",
            "  7.27944581e+00  1.09138545e+01  6.65485038e+01  1.70627553e+01]\n"
          ]
        }
      ]
    },
    {
      "cell_type": "code",
      "source": [
        "print(X.shape)\n",
        "print(y.shape)"
      ],
      "metadata": {
        "colab": {
          "base_uri": "https://localhost:8080/"
        },
        "id": "3al2wcajHpKz",
        "outputId": "275278a5-c72b-4eb3-b4c0-09e53c56d651"
      },
      "execution_count": 6,
      "outputs": [
        {
          "output_type": "stream",
          "name": "stdout",
          "text": [
            "(1000, 3)\n",
            "(1000,)\n"
          ]
        }
      ]
    },
    {
      "cell_type": "code",
      "source": [
        "#split data for training and testing\n",
        "from sklearn.model_selection import train_test_split\n",
        "\n",
        "X_train, X_test, y_train, y_test = train_test_split(X, y, random_state=0)"
      ],
      "metadata": {
        "id": "iM7U48PfHy0a"
      },
      "execution_count": 7,
      "outputs": []
    },
    {
      "cell_type": "markdown",
      "source": [
        "Build a ridge regression model"
      ],
      "metadata": {
        "id": "G-7pf6OtIozD"
      }
    },
    {
      "cell_type": "code",
      "source": [
        "#create, train and score model\n",
        "from sklearn.linear_model import Ridge\n",
        "\n",
        "model = Ridge()\n",
        "\n",
        "model.fit(X_train, y_train)\n",
        "\n",
        "results = model.score(X_test, y_test)"
      ],
      "metadata": {
        "id": "Of2MCz9HIrRu"
      },
      "execution_count": 8,
      "outputs": []
    },
    {
      "cell_type": "code",
      "source": [
        "print(results)"
      ],
      "metadata": {
        "colab": {
          "base_uri": "https://localhost:8080/"
        },
        "id": "KyfYToVEJEq6",
        "outputId": "1366ddc7-4d8b-4506-bf7e-a6eceecf11c1"
      },
      "execution_count": 9,
      "outputs": [
        {
          "output_type": "stream",
          "name": "stdout",
          "text": [
            "0.9999999999774978\n"
          ]
        }
      ]
    },
    {
      "cell_type": "code",
      "source": [
        "X_train_log = numpy.log(X_train + 1)\n",
        "\n",
        "print(X_train_log)"
      ],
      "metadata": {
        "colab": {
          "base_uri": "https://localhost:8080/"
        },
        "id": "PHFj5tqzJLx0",
        "outputId": "158fb7cc-dc42-4e19-a6c0-fbeefb0e7cfc"
      },
      "execution_count": 10,
      "outputs": [
        {
          "output_type": "stream",
          "name": "stdout",
          "text": [
            "[[1.09861229 1.94591015 2.48490665]\n",
            " [1.38629436 2.77258872 1.60943791]\n",
            " [3.4657359  2.07944154 1.09861229]\n",
            " ...\n",
            " [3.87120101 2.19722458 2.99573227]\n",
            " [2.56494936 4.6443909  3.13549422]\n",
            " [1.60943791 3.33220451 2.99573227]]\n"
          ]
        }
      ]
    },
    {
      "cell_type": "code",
      "source": [
        "X_test_log = numpy.log(X_test + 1)\n",
        "\n",
        "import matplotlib.pyplot as plt\n",
        "\n",
        "plt.hist(X_train_log[:, 0], bins = 25)"
      ],
      "metadata": {
        "colab": {
          "base_uri": "https://localhost:8080/",
          "height": 421
        },
        "id": "tinMgakFJYIZ",
        "outputId": "e756a025-3d78-4d8c-db8e-10b850c9ce80"
      },
      "execution_count": 11,
      "outputs": [
        {
          "output_type": "execute_result",
          "data": {
            "text/plain": [
              "(array([12.,  0.,  0., 31.,  0., 40.,  0., 51., 46., 41., 39., 63., 61.,\n",
              "        64., 51., 46., 51., 40., 39., 19., 20., 12.,  8.,  6., 10.]),\n",
              " array([0.        , 0.18615841, 0.37231683, 0.55847524, 0.74463366,\n",
              "        0.93079207, 1.11695048, 1.3031089 , 1.48926731, 1.67542573,\n",
              "        1.86158414, 2.04774255, 2.23390097, 2.42005938, 2.6062178 ,\n",
              "        2.79237621, 2.97853462, 3.16469304, 3.35085145, 3.53700987,\n",
              "        3.72316828, 3.90932669, 4.09548511, 4.28164352, 4.46780194,\n",
              "        4.65396035]),\n",
              " <a list of 25 Patch objects>)"
            ]
          },
          "metadata": {},
          "execution_count": 11
        },
        {
          "output_type": "display_data",
          "data": {
            "text/plain": [
              "<Figure size 432x288 with 1 Axes>"
            ],
            "image/png": "[encoded data removed]"
          },
          "metadata": {
            "needs_background": "light"
          }
        }
      ]
    },
    {
      "cell_type": "code",
      "source": [
        "#create, train and score model on log data\n",
        "model = Ridge()\n",
        "\n",
        "model.fit(X_train_log, y_train)\n",
        "\n",
        "log_results = model.score(X_test_log, y_test)\n",
        "\n",
        "print(log_results)"
      ],
      "metadata": {
        "colab": {
          "base_uri": "https://localhost:8080/"
        },
        "id": "bAfIp9qhJ0gW",
        "outputId": "33307466-53c1-4437-d504-3a4d6180780b"
      },
      "execution_count": 13,
      "outputs": [
        {
          "output_type": "stream",
          "name": "stdout",
          "text": [
            "0.6394688489045481\n"
          ]
        }
      ]
    }
  ]
}