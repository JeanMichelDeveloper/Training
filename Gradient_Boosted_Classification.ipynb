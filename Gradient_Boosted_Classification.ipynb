{
  "nbformat": 4,
  "nbformat_minor": 0,
  "metadata": {
    "colab": {
      "provenance": [],
      "authorship_tag": "ABX9TyPD2UM+0W7p/50Sid+IiCPS",
      "include_colab_link": true
    },
    "kernelspec": {
      "name": "python3",
      "display_name": "Python 3"
    },
    "language_info": {
      "name": "python"
    }
  },
  "cells": [
    {
      "cell_type": "markdown",
      "metadata": {
        "id": "view-in-github",
        "colab_type": "text"
      },
      "source": [
        "<a href=\"https://colab.research.google.com/github/JeanMichelDeveloper/Training/blob/main/Gradient_Boosted_Classification.ipynb\" target=\"_parent\"><img src=\"https://colab.research.google.com/assets/colab-badge.svg\" alt=\"Open In Colab\"/></a>"
      ]
    },
    {
      "cell_type": "markdown",
      "source": [
        "Prepare data for Gradient Boosting"
      ],
      "metadata": {
        "id": "PQEj2im2Nqrw"
      }
    },
    {
      "cell_type": "code",
      "execution_count": 2,
      "metadata": {
        "id": "VgBPgYG6NkHj",
        "colab": {
          "base_uri": "https://localhost:8080/"
        },
        "outputId": "9755391f-8b6f-4e9c-b67c-f1c8cff62144"
      },
      "outputs": [
        {
          "output_type": "stream",
          "name": "stdout",
          "text": [
            "Downloading data from https://storage.googleapis.com/tensorflow/tf-keras-datasets/boston_housing.npz\n",
            "57026/57026 [==============================] - 0s 0us/step\n"
          ]
        }
      ],
      "source": [
        "#import data\n",
        "import tensorflow as tf\n",
        "from tensorflow.keras.datasets import boston_housing\n",
        "(x_train, y_train), (x_test, y_test) = boston_housing.load_data()"
      ]
    },
    {
      "cell_type": "markdown",
      "source": [
        "Build Binary Classes"
      ],
      "metadata": {
        "id": "NbbfM4mwPc7N"
      }
    },
    {
      "cell_type": "code",
      "source": [
        "#function to build classes\n",
        "def sort_by_binary_class(y):\n",
        "\n",
        "  for index, label in enumerate(y):\n",
        "    \n",
        "    if label >= 25:\n",
        "      y[index] = 1\n",
        "\n",
        "    else:\n",
        "      y[index] = 0\n",
        "\n",
        "#sort y_train and y_test\n",
        "import copy\n",
        "binary_sorted_y_train = sort_by_binary_class(copy.deepcopy(y_train))\n",
        "binary_sorted_y_test = sort_by_binary_class(copy.deepcopy(y_test)) "
      ],
      "metadata": {
        "id": "1YVkyB4JPij_"
      },
      "execution_count": 3,
      "outputs": []
    },
    {
      "cell_type": "markdown",
      "source": [
        "Shape data for classification"
      ],
      "metadata": {
        "id": "RcJAu88aQ0Af"
      }
    },
    {
      "cell_type": "code",
      "source": [
        "#build imput functions\n",
        "batch_size = 250\n",
        "training_input_function = tf.compat.v1.estimator.inputs.numpy_input_fn(\n",
        "    x = {\"x\": x_train}, \n",
        "    y = binary_sorted_y_train, \n",
        "    batch_size = batch_size, \n",
        "    num_epochs = None, \n",
        "    shuffle = True)\n",
        "\n",
        "testing_input_function = tf.compat.v1.estimator.inputs.numpy_input_fn(\n",
        "    x = {\"x\": x_test}, \n",
        "    y = binary_sorted_y_test, \n",
        "    batch_size = batch_size, \n",
        "    num_epochs = 1, \n",
        "    shuffle = False)\n",
        "\n",
        "testing_training_input_function = tf.compat.v1.estimator.inputs.numpy_input_fn(\n",
        "    x = {\"x\": x_train}, \n",
        "    y = binary_sorted_y_train, \n",
        "    batch_size = batch_size, \n",
        "    num_epochs = None, \n",
        "    shuffle = False)\n",
        "\n",
        "#create feature_columns\n",
        "number_of_features = 13\n",
        "feature_columns = [tf.feature_column.numeric_column(key = \"x\", shape = (number_of_features,))]"
      ],
      "metadata": {
        "id": "WnAkf4_gQ0W-",
        "colab": {
          "base_uri": "https://localhost:8080/"
        },
        "outputId": "75536d4d-61d5-468e-f769-225d5d1c2bd3"
      },
      "execution_count": 4,
      "outputs": [
        {
          "output_type": "stream",
          "name": "stderr",
          "text": [
            "WARNING:tensorflow:From /usr/local/lib/python3.8/dist-packages/tensorflow/python/util/lazy_loader.py:59: The name tf.estimator.inputs is deprecated. Please use tf.compat.v1.estimator.inputs instead.\n",
            "\n"
          ]
        }
      ]
    },
    {
      "cell_type": "code",
      "source": [
        "print(tf.__version__)"
      ],
      "metadata": {
        "colab": {
          "base_uri": "https://localhost:8080/"
        },
        "id": "1TInhOSF3ui6",
        "outputId": "277983a3-a824-4073-8703-98e2f53272be"
      },
      "execution_count": 5,
      "outputs": [
        {
          "output_type": "stream",
          "name": "stdout",
          "text": [
            "2.9.2\n"
          ]
        }
      ]
    },
    {
      "cell_type": "markdown",
      "source": [
        "Build Boosted Tree Classifier"
      ],
      "metadata": {
        "id": "17vXnNAXUI9u"
      }
    },
    {
      "cell_type": "code",
      "source": [
        "#create model (not working BoostedTreesClassifier doesn't exist anymore)\n",
        "gradient_boosted_classifier = tf.estimator.BoostedTreesClassifier(\n",
        "    n_batches_per_layer = 1000,\n",
        "    feature_columns = feature_columns,\n",
        "    n_classes = 2,\n",
        "    learning_rate = 1,\n",
        "    n_trees = 8,\n",
        "    max_depth = 4,\n",
        "    l1_regularization = 0.0,\n",
        "    l2_regularization = 0.1\n",
        ")"
      ],
      "metadata": {
        "colab": {
          "base_uri": "https://localhost:8080/",
          "height": 357
        },
        "id": "P-z2iWw4UJUc",
        "outputId": "637d0313-0e5d-4a66-aba8-4fbe9ee779e4"
      },
      "execution_count": 8,
      "outputs": [
        {
          "output_type": "error",
          "ename": "AttributeError",
          "evalue": "ignored",
          "traceback": [
            "\u001b[0;31m---------------------------------------------------------------------------\u001b[0m",
            "\u001b[0;31mAttributeError\u001b[0m                            Traceback (most recent call last)",
            "\u001b[0;32m<ipython-input-8-425cd3379594>\u001b[0m in \u001b[0;36m<module>\u001b[0;34m\u001b[0m\n\u001b[1;32m      1\u001b[0m \u001b[0;31m#create model\u001b[0m\u001b[0;34m\u001b[0m\u001b[0;34m\u001b[0m\u001b[0;34m\u001b[0m\u001b[0m\n\u001b[0;32m----> 2\u001b[0;31m gradient_boosted_classifier = tf.compat.v1.estimator.BoostedTreesClassifier(\n\u001b[0m\u001b[1;32m      3\u001b[0m     \u001b[0mn_batches_per_layer\u001b[0m \u001b[0;34m=\u001b[0m \u001b[0;36m1000\u001b[0m\u001b[0;34m,\u001b[0m\u001b[0;34m\u001b[0m\u001b[0;34m\u001b[0m\u001b[0m\n\u001b[1;32m      4\u001b[0m     \u001b[0mfeature_columns\u001b[0m \u001b[0;34m=\u001b[0m \u001b[0mfeature_columns\u001b[0m\u001b[0;34m,\u001b[0m\u001b[0;34m\u001b[0m\u001b[0;34m\u001b[0m\u001b[0m\n\u001b[1;32m      5\u001b[0m     \u001b[0mn_classes\u001b[0m \u001b[0;34m=\u001b[0m \u001b[0;36m2\u001b[0m\u001b[0;34m,\u001b[0m\u001b[0;34m\u001b[0m\u001b[0;34m\u001b[0m\u001b[0m\n",
            "\u001b[0;32m/usr/local/lib/python3.8/dist-packages/tensorflow/python/util/module_wrapper.py\u001b[0m in \u001b[0;36m_getattr\u001b[0;34m(self, name)\u001b[0m\n\u001b[1;32m    230\u001b[0m     \"\"\"\n\u001b[1;32m    231\u001b[0m     \u001b[0;32mtry\u001b[0m\u001b[0;34m:\u001b[0m\u001b[0;34m\u001b[0m\u001b[0;34m\u001b[0m\u001b[0m\n\u001b[0;32m--> 232\u001b[0;31m       \u001b[0mattr\u001b[0m \u001b[0;34m=\u001b[0m \u001b[0mgetattr\u001b[0m\u001b[0;34m(\u001b[0m\u001b[0mself\u001b[0m\u001b[0;34m.\u001b[0m\u001b[0m_tfmw_wrapped_module\u001b[0m\u001b[0;34m,\u001b[0m \u001b[0mname\u001b[0m\u001b[0;34m)\u001b[0m\u001b[0;34m\u001b[0m\u001b[0;34m\u001b[0m\u001b[0m\n\u001b[0m\u001b[1;32m    233\u001b[0m     \u001b[0;32mexcept\u001b[0m \u001b[0mAttributeError\u001b[0m\u001b[0;34m:\u001b[0m\u001b[0;34m\u001b[0m\u001b[0;34m\u001b[0m\u001b[0m\n\u001b[1;32m    234\u001b[0m     \u001b[0;31m# Placeholder for Google-internal contrib error\u001b[0m\u001b[0;34m\u001b[0m\u001b[0;34m\u001b[0m\u001b[0;34m\u001b[0m\u001b[0m\n",
            "\u001b[0;31mAttributeError\u001b[0m: module 'tensorflow_estimator.python.estimator.api._v1.estimator' has no attribute 'BoostedTreesClassifier'"
          ]
        }
      ]
    }
  ]
}