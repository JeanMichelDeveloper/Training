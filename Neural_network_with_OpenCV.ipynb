{
  "nbformat": 4,
  "nbformat_minor": 0,
  "metadata": {
    "colab": {
      "provenance": [],
      "authorship_tag": "ABX9TyO+F2CjdsBg4XbOpttFypgI",
      "include_colab_link": true
    },
    "kernelspec": {
      "name": "python3",
      "display_name": "Python 3"
    },
    "language_info": {
      "name": "python"
    }
  },
  "cells": [
    {
      "cell_type": "markdown",
      "metadata": {
        "id": "view-in-github",
        "colab_type": "text"
      },
      "source": [
        "<a href=\"https://colab.research.google.com/github/JeanMichelDeveloper/Training/blob/main/Neural_network_with_OpenCV.ipynb\" target=\"_parent\"><img src=\"https://colab.research.google.com/assets/colab-badge.svg\" alt=\"Open In Colab\"/></a>"
      ]
    },
    {
      "cell_type": "code",
      "execution_count": 1,
      "metadata": {
        "colab": {
          "base_uri": "https://localhost:8080/"
        },
        "id": "Tiyi399fjB87",
        "outputId": "058a19ca-1647-4f9c-ef7e-8248b06b698c"
      },
      "outputs": [
        {
          "output_type": "stream",
          "name": "stdout",
          "text": [
            "Looking in indexes: https://pypi.org/simple, https://us-python.pkg.dev/colab-wheels/public/simple/\n",
            "Requirement already satisfied: opencv-contrib-python==4.6.0.66 in /usr/local/lib/python3.8/dist-packages (4.6.0.66)\n",
            "Requirement already satisfied: numpy>=1.14.5 in /usr/local/lib/python3.8/dist-packages (from opencv-contrib-python==4.6.0.66) (1.21.6)\n"
          ]
        }
      ],
      "source": [
        "#install opencv\n",
        "!pip install opencv-contrib-python==4.6.0.66"
      ]
    },
    {
      "cell_type": "code",
      "source": [
        "#import necessary libraries\n",
        "import cv2\n",
        "from sklearn.datasets import make_blobs\n",
        "from sklearn.preprocessing import OneHotEncoder\n",
        "from sklearn.metrics import accuracy_score\n",
        "import numpy\n",
        "from matplotlib import pyplot as plt"
      ],
      "metadata": {
        "id": "oSjST2ixjQRf"
      },
      "execution_count": 2,
      "outputs": []
    },
    {
      "cell_type": "markdown",
      "source": [
        "Generate data"
      ],
      "metadata": {
        "id": "C-cm7FmyjGeT"
      }
    },
    {
      "cell_type": "code",
      "source": [
        "X_data, y_data = make_blobs(n_samples = 100,\n",
        "           centers = 2,\n",
        "           cluster_std = 5.1,\n",
        "           random_state = 30)"
      ],
      "metadata": {
        "id": "L2wHnQQFjZiK"
      },
      "execution_count": 3,
      "outputs": []
    },
    {
      "cell_type": "code",
      "source": [
        "#Process data\n",
        "X = X_data.astype(numpy.float32)\n",
        "\n",
        "encoder = OneHotEncoder(sparse = False, dtype=numpy.float32)\n",
        "\n",
        "y = encoder.fit_transform(y_data.reshape(-1, 1))"
      ],
      "metadata": {
        "id": "biHnaduSkODH"
      },
      "execution_count": 4,
      "outputs": []
    },
    {
      "cell_type": "markdown",
      "source": [
        "Build an artificial neural network"
      ],
      "metadata": {
        "id": "97s5LOOKlTZ5"
      }
    },
    {
      "cell_type": "code",
      "source": [
        "#create model\n",
        "model = cv2.ml.ANN_MLP_create()\n",
        "\n",
        "number_of_inputs = 2\n",
        "number_of_hidden_layers = 8\n",
        "number_of_outputs = 2\n",
        "\n",
        "model.setLayerSizes(numpy.array([number_of_inputs,\n",
        "                                 number_of_hidden_layers,\n",
        "                                 number_of_outputs]))\n",
        "\n",
        "alpha = 2.5\n",
        "beta = 1\n",
        "\n",
        "model.setActivationFunction(cv2.ml.ANN_MLP_SIGMOID_SYM,\n",
        "                            alpha,\n",
        "                            beta)\n",
        "\n",
        "model.setTrainMethod(cv2.ml.ANN_MLP_BACKPROP)\n",
        "\n",
        "termination_mode = cv2.TERM_CRITERIA_MAX_ITER + cv2.TERM_CRITERIA_EPS\n",
        "maximum_iterations = 1000\n",
        "minimum_accuracy = 0.0001\n",
        "\n",
        "model.setTermCriteria((termination_mode, \n",
        "                       maximum_iterations, \n",
        "                       minimum_accuracy))\n",
        "\n",
        "#Train the model\n",
        "model.train(X, cv2.ml.ROW_SAMPLE, y)"
      ],
      "metadata": {
        "colab": {
          "base_uri": "https://localhost:8080/"
        },
        "id": "xL8vcxx3lYMA",
        "outputId": "d9cb0954-e2e2-4cda-b046-0cbfc3d964aa"
      },
      "execution_count": 11,
      "outputs": [
        {
          "output_type": "execute_result",
          "data": {
            "text/plain": [
              "True"
            ]
          },
          "metadata": {},
          "execution_count": 11
        }
      ]
    },
    {
      "cell_type": "markdown",
      "source": [
        "Visualize model results"
      ],
      "metadata": {
        "id": "FQC3mp4gnRHS"
      }
    },
    {
      "cell_type": "code",
      "source": [
        "#Use model to predict result\n",
        "ret, prediction = model.predict(X)\n",
        "\n",
        "accuracy_score(prediction.round(),y)"
      ],
      "metadata": {
        "colab": {
          "base_uri": "https://localhost:8080/"
        },
        "id": "yjzp-lcJnNBv",
        "outputId": "95ed936a-feeb-497d-acad-600378954638"
      },
      "execution_count": 12,
      "outputs": [
        {
          "output_type": "execute_result",
          "data": {
            "text/plain": [
              "0.76"
            ]
          },
          "metadata": {},
          "execution_count": 12
        }
      ]
    },
    {
      "cell_type": "code",
      "source": [
        "#create visualization function\n",
        "def scatter(model, X, y):\n",
        "  \n",
        "  plt.scatter(X[:, 0], X[:, 1], c = y)\n",
        "\n",
        "def visualize_results(model, X, y):\n",
        "\n",
        "  min_x, max_x = X[:, 0].min() - 1, X[:, 0].max() - 1\n",
        "  h = 0.02\n",
        "  min_y, max_y = X[:, 1].min() - 1, X[:, 1].max() - 1\n",
        "\n",
        "  new_x, new_y = numpy.meshgrid(numpy.arange(min_x, max_x, h),\n",
        "                                numpy.arange(min_y, max_y, h))\n",
        "  \n",
        "  x_hypothesis = numpy.c_[new_x.ravel().astype(numpy.float32),\n",
        "                          new_y.ravel().astype(numpy.float32)]\n",
        "  \n",
        "  ret, z = model.predict(x_hypothesis)\n",
        "\n",
        "  z = numpy.argmax(z, axis = 1)\n",
        "  z = z.reshape(new_x.shape)\n",
        "  \n",
        "  plt.contourf(new_x, new_y, z)"
      ],
      "metadata": {
        "id": "SNfTtUhz6noJ"
      },
      "execution_count": 13,
      "outputs": []
    },
    {
      "cell_type": "code",
      "source": [
        "plt.rcParams[\"figure.figsize\"] = (10, 5)"
      ],
      "metadata": {
        "id": "hzyxBGwD7OqQ"
      },
      "execution_count": 14,
      "outputs": []
    },
    {
      "cell_type": "code",
      "source": [
        "scatter(model, X, y_data)"
      ],
      "metadata": {
        "colab": {
          "base_uri": "https://localhost:8080/",
          "height": 320
        },
        "id": "O2r7pPEA-Cds",
        "outputId": "c7c65ee0-86ee-4812-e5f4-f59342caf048"
      },
      "execution_count": 15,
      "outputs": [
        {
          "output_type": "display_data",
          "data": {
            "text/plain": [
              "<Figure size 720x360 with 1 Axes>"
            ],
            "image/png": "[encoded data removed]"
          },
          "metadata": {
            "needs_background": "light"
          }
        }
      ]
    },
    {
      "cell_type": "code",
      "source": [
        "#Visualize results\n",
        "visualize_results(model, X, y_data)"
      ],
      "metadata": {
        "colab": {
          "base_uri": "https://localhost:8080/",
          "height": 320
        },
        "id": "MgxZYcmh6_S4",
        "outputId": "a524524f-8944-42a9-a2bb-800d86ad4d21"
      },
      "execution_count": 16,
      "outputs": [
        {
          "output_type": "display_data",
          "data": {
            "text/plain": [
              "<Figure size 720x360 with 1 Axes>"
            ],
            "image/png": "[encoded data removed]"
          },
          "metadata": {
            "needs_background": "light"
          }
        }
      ]
    }
  ]
}