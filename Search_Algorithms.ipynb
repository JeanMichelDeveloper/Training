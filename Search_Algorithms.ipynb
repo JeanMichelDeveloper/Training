{
  "nbformat": 4,
  "nbformat_minor": 0,
  "metadata": {
    "colab": {
      "provenance": [],
      "authorship_tag": "ABX9TyPFB2b3cLebL70FCoJSJgSa",
      "include_colab_link": true
    },
    "kernelspec": {
      "name": "python3",
      "display_name": "Python 3"
    },
    "language_info": {
      "name": "python"
    }
  },
  "cells": [
    {
      "cell_type": "markdown",
      "metadata": {
        "id": "view-in-github",
        "colab_type": "text"
      },
      "source": [
        "<a href=\"https://colab.research.google.com/github/JeanMichelDeveloper/Training/blob/main/Search_Algorithms.ipynb\" target=\"_parent\"><img src=\"https://colab.research.google.com/assets/colab-badge.svg\" alt=\"Open In Colab\"/></a>"
      ]
    },
    {
      "cell_type": "markdown",
      "source": [
        "Depth First Search Algorithm"
      ],
      "metadata": {
        "id": "yU0DfhllE3-V"
      }
    },
    {
      "cell_type": "code",
      "execution_count": 1,
      "metadata": {
        "id": "OOIKBUPrB-ZV"
      },
      "outputs": [],
      "source": [
        "#build a tree\n",
        "class Node:\n",
        "  def __init__(self, key):\n",
        "    self.leftChild = None\n",
        "    self.rightChild = None\n",
        "    self.value = key\n",
        "\n",
        "root = Node(\"A\")\n",
        "root.leftChild = Node(\"B\")\n",
        "root.rightChild = Node(\"C\")\n",
        "root.leftChild.leftChild = Node(\"D\")\n",
        "root.leftChild.rightChild = Node(\"E\")\n",
        "root.rightChild.leftChild = Node(\"F\")\n",
        "root.rightChild.rightChild = Node(\"G\")"
      ]
    },
    {
      "cell_type": "code",
      "source": [
        "#create DFC function with preorder traversal\n",
        "def depthFirstSearch(root):\n",
        "  if root:\n",
        "    print(root.value)\n",
        "    depthFirstSearch(root.leftChild)\n",
        "    depthFirstSearch(root.rightChild)"
      ],
      "metadata": {
        "id": "X4h8qshFDPQc"
      },
      "execution_count": 2,
      "outputs": []
    },
    {
      "cell_type": "code",
      "source": [
        "depthFirstSearch(root)"
      ],
      "metadata": {
        "colab": {
          "base_uri": "https://localhost:8080/"
        },
        "id": "Nuo78dlxEd6b",
        "outputId": "b3fcb8a4-00e0-4924-be27-112620798766"
      },
      "execution_count": 3,
      "outputs": [
        {
          "output_type": "stream",
          "name": "stdout",
          "text": [
            "A\n",
            "B\n",
            "D\n",
            "E\n",
            "C\n",
            "F\n",
            "G\n"
          ]
        }
      ]
    },
    {
      "cell_type": "markdown",
      "source": [
        "Preorder Traversal:\n",
        "1. Visit root\n",
        "2. Visit left child\n",
        "3. Visit right child\n",
        "\n",
        "Postorder Traversal:\n",
        "1. Visit left child\n",
        "2. Visit right child\n",
        "3. Visit root\n",
        "\n",
        "Inorder Traversal:\n",
        "1. Visit left child\n",
        "2. Visit root\n",
        "3. Visit right child"
      ],
      "metadata": {
        "id": "tlTiE51SDhe7"
      }
    }
  ]
}