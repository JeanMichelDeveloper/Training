{
  "nbformat": 4,
  "nbformat_minor": 0,
  "metadata": {
    "colab": {
      "provenance": [],
      "authorship_tag": "ABX9TyNjMj1h2b8u7hveTPt30ppk",
      "include_colab_link": true
    },
    "kernelspec": {
      "name": "python3",
      "display_name": "Python 3"
    },
    "language_info": {
      "name": "python"
    }
  },
  "cells": [
    {
      "cell_type": "markdown",
      "metadata": {
        "id": "view-in-github",
        "colab_type": "text"
      },
      "source": [
        "<a href=\"https://colab.research.google.com/github/JeanMichelDeveloper/Training/blob/main/Search_Algorithms.ipynb\" target=\"_parent\"><img src=\"https://colab.research.google.com/assets/colab-badge.svg\" alt=\"Open In Colab\"/></a>"
      ]
    },
    {
      "cell_type": "markdown",
      "source": [
        "Depth First Search Algorithm"
      ],
      "metadata": {
        "id": "yU0DfhllE3-V"
      }
    },
    {
      "cell_type": "code",
      "execution_count": 3,
      "metadata": {
        "id": "OOIKBUPrB-ZV"
      },
      "outputs": [],
      "source": [
        "#build a tree\n",
        "class Node:\n",
        "  def __init__(self, key):\n",
        "    self.leftChild = None\n",
        "    self.rightChild = None\n",
        "    self.value = key\n",
        "\n",
        "root = Node(\"A\")\n",
        "root.leftChild = Node(\"B\")\n",
        "root.rightChild = Node(\"C\")\n",
        "root.leftChild.leftChild = Node(\"D\")\n",
        "root.leftChild.rightChild = Node(\"E\")\n",
        "root.rightChild.leftChild = Node(\"F\")\n",
        "root.rightChild.rightChild = Node(\"G\")"
      ]
    },
    {
      "cell_type": "code",
      "source": [
        "#create DFC function with preorder traversal\n",
        "def depthFirstSearch(root):\n",
        "  if root:\n",
        "    print(root.value)\n",
        "    depthFirstSearch(root.leftChild)\n",
        "    depthFirstSearch(root.rightChild)"
      ],
      "metadata": {
        "id": "X4h8qshFDPQc"
      },
      "execution_count": 4,
      "outputs": []
    },
    {
      "cell_type": "code",
      "source": [
        "depthFirstSearch(root)"
      ],
      "metadata": {
        "colab": {
          "base_uri": "https://localhost:8080/"
        },
        "id": "Nuo78dlxEd6b",
        "outputId": "615427f9-937a-4098-a23b-672dd9647a05"
      },
      "execution_count": 5,
      "outputs": [
        {
          "output_type": "stream",
          "name": "stdout",
          "text": [
            "A\n",
            "B\n",
            "D\n",
            "E\n",
            "C\n",
            "F\n",
            "G\n"
          ]
        }
      ]
    },
    {
      "cell_type": "markdown",
      "source": [
        "Preorder Traversal:\n",
        "1. Visit root\n",
        "2. Visit left child\n",
        "3. Visit right child\n",
        "\n",
        "Postorder Traversal:\n",
        "1. Visit left child\n",
        "2. Visit right child\n",
        "3. Visit root\n",
        "\n",
        "Inorder Traversal:\n",
        "1. Visit left child\n",
        "2. Visit root\n",
        "3. Visit right child"
      ],
      "metadata": {
        "id": "tlTiE51SDhe7"
      }
    },
    {
      "cell_type": "markdown",
      "source": [
        "Breadth First Search Algorithm"
      ],
      "metadata": {
        "id": "eCQyhxXg8u0r"
      }
    },
    {
      "cell_type": "code",
      "source": [
        "#Create BFS algorithm\n",
        "def traverseEachLevel(root):\n",
        "  height = 3\n",
        "  for level in range(1, height+1):\n",
        "    breadthFirstSearch(root,level)\n",
        "\n",
        "\n",
        "def breadthFirstSearch(root,level):\n",
        "  if root is None: \n",
        "    return\n",
        "\n",
        "  if level == 1:\n",
        "    print(root.value)\n",
        "  \n",
        "  elif level > 1:\n",
        "    breadthFirstSearch(root.leftChild,level-1)\n",
        "    breadthFirstSearch(root.rightChild,level-1)"
      ],
      "metadata": {
        "id": "bBxurUlF83_E"
      },
      "execution_count": 6,
      "outputs": []
    },
    {
      "cell_type": "code",
      "source": [
        "traverseEachLevel(root)"
      ],
      "metadata": {
        "colab": {
          "base_uri": "https://localhost:8080/"
        },
        "id": "set70ZXI90WJ",
        "outputId": "2f326b6d-f2ca-46f4-d54f-761220dda643"
      },
      "execution_count": 7,
      "outputs": [
        {
          "output_type": "stream",
          "name": "stdout",
          "text": [
            "A\n",
            "B\n",
            "C\n",
            "D\n",
            "E\n",
            "F\n",
            "G\n"
          ]
        }
      ]
    },
    {
      "cell_type": "markdown",
      "source": [
        "Uniform Cost Search"
      ],
      "metadata": {
        "id": "gfGZgRmx-Vyj"
      }
    },
    {
      "cell_type": "code",
      "source": [
        "#create algorithm (not working, missing class definition)\n",
        "def uniformCostSearch(graph, vertex):\n",
        "  visited_nodes = set()\n",
        "  priority_queue = queue.PriorityQueue()\n",
        "  queue.put((0, vertex, [vertex]))\n",
        "\n",
        "  while not priority_queue.empty():\n",
        "    x, current_node, path = priority_queue.get\n",
        "\n",
        "    if current_node not in visited_nodes:\n",
        "      visited_nodes.add(current_node)\n",
        "\n",
        "    if current_node.is_goal:\n",
        "      return path\n",
        "\n",
        "    else:\n",
        "      for edge in current_node.edges:\n",
        "        neighbor = edge.to()\n",
        "        \n",
        "        if neighbor not in visited_nodes:\n",
        "          priority_queue.put((current_node_priority + edge.weight, neighbor, path + [neighbor]))"
      ],
      "metadata": {
        "id": "jpcHZpkjBEhQ"
      },
      "execution_count": null,
      "outputs": []
    },
    {
      "cell_type": "markdown",
      "source": [
        "Greedy Best First Search"
      ],
      "metadata": {
        "id": "LYSHKlfHutlf"
      }
    },
    {
      "cell_type": "code",
      "source": [
        "#Goal : maximise the number of activities done\n",
        "#definie start and end hours of activities\n",
        "starting_times = [1, 2, 4, 5, 8, 10, 12, 16, 7, 8, 3]\n",
        "finishing_times = [3, 5, 5, 8, 9, 11, 15, 18, 8, 9, 5]\n",
        "\n",
        "\n",
        "#Greedy Search function\n",
        "def greedySearch(starting_times, finishing_times):\n",
        "  previous_activity = 0\n",
        "  print(\"Can visit activity index\", previous_activity)\n",
        "  for activity in range(len(starting_times)):\n",
        "    if starting_times[activity] >= finishing_times[previous_activity]:\n",
        "      print(\"Can visit activity index\", activity)\n",
        "      previous_activity = activity\n",
        "\n",
        "greedySearch(starting_times, finishing_times)"
      ],
      "metadata": {
        "colab": {
          "base_uri": "https://localhost:8080/"
        },
        "id": "4DDPY_zku50e",
        "outputId": "d52f2467-b2ad-4e94-8b44-812d0f60ee27"
      },
      "execution_count": 8,
      "outputs": [
        {
          "output_type": "stream",
          "name": "stdout",
          "text": [
            "Can visit activity index 0\n",
            "Can visit activity index 2\n",
            "Can visit activity index 3\n",
            "Can visit activity index 4\n",
            "Can visit activity index 5\n",
            "Can visit activity index 6\n",
            "Can visit activity index 7\n"
          ]
        }
      ]
    }
  ]
}